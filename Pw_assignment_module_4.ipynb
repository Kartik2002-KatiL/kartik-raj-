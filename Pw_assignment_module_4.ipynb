{
  "nbformat": 4,
  "nbformat_minor": 0,
  "metadata": {
    "colab": {
      "provenance": [],
      "authorship_tag": "ABX9TyMVI9ajqjbQvRgQuKyrwupZ",
      "include_colab_link": true
    },
    "kernelspec": {
      "name": "python3",
      "display_name": "Python 3"
    },
    "language_info": {
      "name": "python"
    }
  },
  "cells": [
    {
      "cell_type": "markdown",
      "metadata": {
        "id": "view-in-github",
        "colab_type": "text"
      },
      "source": [
        "<a href=\"https://colab.research.google.com/github/Kartik2002-KatiL/kartik-raj-/blob/kartik/Pw_assignment_module_4.ipynb\" target=\"_parent\"><img src=\"https://colab.research.google.com/assets/colab-badge.svg\" alt=\"Open In Colab\"/></a>"
      ]
    },
    {
      "cell_type": "markdown",
      "source": [
        "#PRACTICAL ASSIGNMENT"
      ],
      "metadata": {
        "id": "sihUljAQYKgL"
      }
    },
    {
      "cell_type": "markdown",
      "source": [
        "# 1. Write a Python function that takes a list of numbers as input and returns the sum of all even numbers inthe list.\n",
        "###Ans.Certainly! Here's a Python function that takes a list of numbers and returns the sum of all even numbers in that list:\n",
        "\n",
        "```python\n",
        "def sum_of_even_numbers(numbers):\n",
        "    return sum(num for num in numbers if num % 2 == 0)\n",
        "\n",
        "# Example usage:\n",
        "numbers_list = [1, 2, 3, 4, 5, 6]\n",
        "result = sum_of_even_numbers(numbers_list)\n",
        "print(\"Sum of even numbers:\", result)  # Output: Sum of even numbers: 12\n",
        "```\n",
        "\n",
        "This function uses a generator expression to iterate through the list and sum only the even numbers. You can test it with any list of integers!"
      ],
      "metadata": {
        "id": "or_SWW9xYa9a"
      }
    },
    {
      "cell_type": "markdown",
      "source": [
        "# 2. Create a Python function that accepts a string and returns the reverse of that string.\n",
        "###Ans.Sure! Here’s a simple Python function that takes a string as input and returns its reverse:\n",
        "\n",
        "```python\n",
        "def reverse_string(s):\n",
        "    return s[::-1]\n",
        "\n",
        "# Example usage:\n",
        "input_string = \"Hello, World!\"\n",
        "result = reverse_string(input_string)\n",
        "print(\"Reversed string:\", result)  # Output: !dlroW ,olleH\n",
        "```\n",
        "\n",
        "This function uses slicing to reverse the string efficiently. You can test it with any string you like!"
      ],
      "metadata": {
        "id": "KcIuujADYyc9"
      }
    },
    {
      "cell_type": "markdown",
      "source": [
        "# 3. Implement a Python function that takes a list of integers and returns a new list containing the squares ofeach number.\n",
        "###Ans.Certainly! Here’s a Python function that takes a list of integers and returns a new list containing the squares of each number:\n",
        "\n",
        "```python\n",
        "def square_numbers(numbers):\n",
        "    return [num ** 2 for num in numbers]\n",
        "\n",
        "# Example usage:\n",
        "input_list = [1, 2, 3, 4, 5]\n",
        "result = square_numbers(input_list)\n",
        "print(\"Squares of the numbers:\", result)  # Output: [1, 4, 9, 16, 25]\n",
        "```\n",
        "\n",
        "This function uses a list comprehension to create a new list with the squares of the input numbers. You can try it with any list of integers!"
      ],
      "metadata": {
        "id": "Jli4vfQdZKca"
      }
    },
    {
      "cell_type": "markdown",
      "source": [
        "# 4. Write a Python function that checks if a given number is prime or not from 1 to 200.\n",
        "###Ans.Sure! Here’s a Python function that checks if a given number is prime, specifically for numbers in the range from 1 to 200:\n",
        "\n",
        "```python\n",
        "def is_prime(n):\n",
        "    if n <= 1:\n",
        "        return False\n",
        "    for i in range(2, int(n**0.5) + 1):\n",
        "        if n % i == 0:\n",
        "            return False\n",
        "    return True\n",
        "\n",
        "# Example usage:\n",
        "number = 29\n",
        "if is_prime(number):\n",
        "    print(f\"{number} is a prime number.\")\n",
        "else:\n",
        "    print(f\"{number} is not a prime number.\")\n",
        "```\n",
        "\n",
        "You can test this function with any number from 1 to 200 to check its primality!"
      ],
      "metadata": {
        "id": "GhKHFe7lZR3r"
      }
    },
    {
      "cell_type": "markdown",
      "source": [
        "# 5. Create an iterator class in Python that generates the Fibonacci sequence up to a specified number ofterms.\n",
        "###Ans.Certainly! Here’s an iterator class in Python that generates the Fibonacci sequence up to a specified number of terms:\n",
        "\n",
        "```python\n",
        "class FibonacciIterator:\n",
        "    def __init__(self, n):\n",
        "        self.n = n  # Number of terms\n",
        "        self.a, self.b = 0, 1  # Starting values\n",
        "        self.count = 0  # Current count\n",
        "\n",
        "    def __iter__(self):\n",
        "        return self\n",
        "\n",
        "    def __next__(self):\n",
        "        if self.count < self.n:\n",
        "            fib_number = self.a\n",
        "            self.a, self.b = self.b, self.a + self.b  # Update values\n",
        "            self.count += 1\n",
        "            return fib_number\n",
        "        else:\n",
        "            raise StopIteration\n",
        "\n",
        "# Example usage:\n",
        "n_terms = 10\n",
        "fib_iterator = FibonacciIterator(n_terms)\n",
        "for num in fib_iterator:\n",
        "    print(num)  # Output: Fibonacci numbers up to the 10th term\n",
        "```\n",
        "\n",
        "This class implements the iterator protocol with the `__iter__()` and `__next__()` methods, allowing you to generate the Fibonacci sequence up to the specified number of terms. You can adjust `n_terms` to generate more or fewer Fibonacci numbers!"
      ],
      "metadata": {
        "id": "cl7nbLjUZeWq"
      }
    },
    {
      "cell_type": "markdown",
      "source": [
        "# 6. Write a generator function in Python that yields the powers of 2 up to a given exponent.\n",
        "###Ans.Sure! Here’s a generator function in Python that yields the powers of 2 up to a given exponent:\n",
        "\n",
        "```python\n",
        "def powers_of_two(exponent):\n",
        "    for i in range(exponent + 1):\n",
        "        yield 2 ** i\n",
        "\n",
        "# Example usage:\n",
        "max_exponent = 5\n",
        "for power in powers_of_two(max_exponent):\n",
        "    print(power)  # Output: 1, 2, 4, 8, 16, 32\n",
        "```\n",
        "\n",
        "This generator function uses the `yield` keyword to produce powers of 2 from \\(2^0\\) to \\(2^{\\text{exponent}}\\). You can adjust `max_exponent` to generate powers of 2 for different ranges!"
      ],
      "metadata": {
        "id": "3m6YiqAuZmyT"
      }
    },
    {
      "cell_type": "markdown",
      "source": [
        "# 7. Implement a generator function that reads a file line by line and yields each line as a string.\n",
        "###Ans.Sure! Here’s a generator function that reads a file line by line and yields each line as a string:\n",
        "\n",
        "```python\n",
        "def read_file_lines(file_path):\n",
        "    with open(file_path, 'r') as file:\n",
        "        for line in file:\n",
        "            yield line.strip()  # Strips newline characters\n",
        "\n",
        "# Example usage:\n",
        "file_path = 'example.txt'  # Replace with your file path\n",
        "for line in read_file_lines(file_path):\n",
        "    print(line)  # This will print each line from the file\n",
        "```\n",
        "\n",
        "This generator function opens the specified file, reads it line by line, and yields each line after stripping any leading or trailing whitespace. You can use it with any text file by providing the correct file path!"
      ],
      "metadata": {
        "id": "cYhq1msgZvbq"
      }
    },
    {
      "cell_type": "markdown",
      "source": [
        "# 8. Use a lambda function in Python to sort a list of tuples based on the second element of each tuple.\n",
        "###Ans.Certainly! You can use a lambda function to sort a list of tuples based on the second element of each tuple. Here’s how you can do that:\n",
        "\n",
        "```python\n",
        "# Sample list of tuples\n",
        "tuples_list = [(1, 3), (2, 1), (3, 2), (4, 4)]\n",
        "\n",
        "# Sorting the list of tuples based on the second element\n",
        "sorted_list = sorted(tuples_list, key=lambda x: x[1])\n",
        "\n",
        "# Example usage:\n",
        "print(\"Sorted list based on the second element:\", sorted_list)\n",
        "```\n",
        "\n",
        "In this example, the `sorted()` function is used with a lambda function as the `key` parameter, which specifies that the sorting should be based on the second element (`x[1]`) of each tuple. The output will show the tuples sorted accordingly."
      ],
      "metadata": {
        "id": "tm4sXnhpZ46C"
      }
    },
    {
      "cell_type": "markdown",
      "source": [
        "# 9. Write a Python program that uses map() to convert a list of temperatures from Celsius to Fahrenheit.\n",
        "###Ans.Sure! Here’s a Python program that uses `map()` to convert a list of temperatures from Celsius to Fahrenheit:\n",
        "\n",
        "```python\n",
        "def celsius_to_fahrenheit(celsius):\n",
        "    return (celsius * 9/5) + 32\n",
        "\n",
        "# Sample list of temperatures in Celsius\n",
        "celsius_temperatures = [0, 20, 37, 100]\n",
        "\n",
        "# Using map to convert Celsius to Fahrenheit\n",
        "fahrenheit_temperatures = list(map(celsius_to_fahrenheit, celsius_temperatures))\n",
        "\n",
        "# Example usage:\n",
        "print(\"Celsius temperatures:\", celsius_temperatures)\n",
        "print(\"Fahrenheit temperatures:\", fahrenheit_temperatures)\n",
        "```\n",
        "\n",
        "In this program, the `celsius_to_fahrenheit` function is defined to perform the conversion. The `map()` function applies this conversion to each element in the `celsius_temperatures` list, and the results are converted back to a list for display."
      ],
      "metadata": {
        "id": "y84cSUhuaCTs"
      }
    },
    {
      "cell_type": "markdown",
      "source": [
        "# 10. Create a Python program that uses filter() to remove all the vowels from a given string..\n",
        "###Ans.Sure! Here’s a Python program that uses `filter()` to remove all the vowels from a given string:\n",
        "\n",
        "```python\n",
        "def remove_vowels(input_string):\n",
        "    vowels = \"aeiouAEIOU\"\n",
        "    return ''.join(filter(lambda char: char not in vowels, input_string))\n",
        "\n",
        "# Example usage:\n",
        "input_string = \"Hello, World!\"\n",
        "result = remove_vowels(input_string)\n",
        "print(\"String after removing vowels:\", result)  # Output: Hll, Wrld!\n",
        "```\n",
        "\n",
        "In this program, the `remove_vowels` function uses the `filter()` function with a lambda expression to exclude any characters that are vowels. The resulting characters are then joined back into a string. You can test it with any input string!"
      ],
      "metadata": {
        "id": "807STOoNaJ2S"
      }
    },
    {
      "cell_type": "markdown",
      "source": [
        "# 11) Imagine an accounting routine used in a book shop. It works on a list with sublists, which look like this:\n",
        "###Ans.You can achieve this by using the map() function along with a lambda function to process the transactions. The program will create a list of 2-tuples where each tuple contains the order number and the adjusted total (price multiplied by quantity, with a potential increase if the order value is less than 100 €).\n",
        "\n",
        "#Example Program\n",
        "Here’s how you can implement this:"
      ],
      "metadata": {
        "id": "vFIJzpSv7h1P"
      }
    },
    {
      "cell_type": "code",
      "source": [
        "# List of transactions\n",
        "transactions = [\n",
        "    [34587, \"Learning Python, Mark Lutz\", 4, 40.95],\n",
        "    [98762, \"Programming Python, Paul Barry\", 5, 56.80],\n",
        "    [77226, \"Head First Python, Paul Barry\", 3, 32.95],\n",
        "    [88112, \"Einführung in Python, Bernd Klein\", 3, 24.99]\n",
        "]\n",
        "\n",
        "# Using map and lambda to create a list of 2-tuples\n",
        "order_totals = list(map(lambda transaction: (\n",
        "    transaction[0],  # Order number\n",
        "    transaction[2] * transaction[3] + (10 if (transaction[2] * transaction[3]) < 100 else 0)  # Adjusted total\n",
        "), transactions))\n",
        "\n",
        "# Output the result\n",
        "print(order_totals)\n",
        "[(34587, 163.8), (98762, 284.0), (77226, 108.85), (88112, 74.98)]\n"
      ],
      "metadata": {
        "id": "q7N4oNsJ7wpP"
      },
      "execution_count": null,
      "outputs": []
    }
  ]
}