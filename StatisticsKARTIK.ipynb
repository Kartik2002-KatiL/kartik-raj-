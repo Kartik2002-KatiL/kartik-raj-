{
  "nbformat": 4,
  "nbformat_minor": 0,
  "metadata": {
    "colab": {
      "provenance": [],
      "authorship_tag": "ABX9TyM2AEd826rrGdMQc3Es8g6V",
      "include_colab_link": true
    },
    "kernelspec": {
      "name": "python3",
      "display_name": "Python 3"
    },
    "language_info": {
      "name": "python"
    }
  },
  "cells": [
    {
      "cell_type": "markdown",
      "metadata": {
        "id": "view-in-github",
        "colab_type": "text"
      },
      "source": [
        "<a href=\"https://colab.research.google.com/github/Kartik2002-KatiL/kartik-raj-/blob/kartik/StatisticsKARTIK.ipynb\" target=\"_parent\"><img src=\"https://colab.research.google.com/assets/colab-badge.svg\" alt=\"Open In Colab\"/></a>"
      ]
    },
    {
      "cell_type": "markdown",
      "source": [
        "#1Q= Generate a list of 100 integers containing values between 90 to 130 and store it in the variable `int_list`.\n",
        "After generating the list, find the following:\n",
        "\n",
        "(i) Write a Python function to calculate the mean of a given list of numbers.\n",
        "Create a function to find the median of a list of numbers.\n",
        "\n",
        "(ii) Develop a program to compute the mode of a list of integers.\n",
        "\n",
        "(iii) Implement a function to calculate the weighted mean of a list of values and their corresponding weights.\n",
        "\n",
        "(iv) Write a Python function to find the geometric mean of a list of positive numbers.\n",
        "\n",
        "(v) Create a program to calculate the harmonic mean of a list of values.\n",
        "\n",
        "(vi) Build a function to determine the midrange of a list of numbers (average of the minimum and maximum).\n",
        "\n",
        "(vii) Implement a Python program to find the trimmed mean of a list, excluding a certain percentage of\n",
        "outliers."
      ],
      "metadata": {
        "id": "330r0N48HUmR"
      }
    },
    {
      "cell_type": "code",
      "execution_count": 1,
      "metadata": {
        "colab": {
          "base_uri": "https://localhost:8080/"
        },
        "id": "7wNPnMkSGsjt",
        "outputId": "47ab2099-a292-4587-ca35-889e584128ad"
      },
      "outputs": [
        {
          "output_type": "stream",
          "name": "stdout",
          "text": [
            "Mean: 114.13\n",
            "Median: 116.0\n",
            "Mode: [130]\n",
            "Weighted Mean: 114.13\n",
            "Geometric Mean: 113.54502860836378\n",
            "Harmonic Mean: 112.94599398536853\n",
            "Midrange: 110.0\n",
            "Trimmed Mean (5%): 114.41111111111111\n"
          ]
        }
      ],
      "source": [
        "import random\n",
        "import statistics\n",
        "from collections import Counter\n",
        "\n",
        "# Generate a list of 100 integers between 90 and 130\n",
        "int_list = [random.randint(90, 130) for _ in range(100)]\n",
        "\n",
        "\n",
        "# (i) Calculate the mean\n",
        "def calculate_mean(numbers):\n",
        "  \"\"\"Calculates the arithmetic mean of a list of numbers.\"\"\"\n",
        "  return sum(numbers) / len(numbers) if numbers else 0\n",
        "\n",
        "\n",
        "# (ii) Calculate the median\n",
        "def calculate_median(numbers):\n",
        "  \"\"\"Calculates the median of a list of numbers.\"\"\"\n",
        "  return statistics.median(numbers)\n",
        "\n",
        "\n",
        "# (iii) Calculate the mode\n",
        "def calculate_mode(numbers):\n",
        "  \"\"\"Calculates the mode of a list of numbers.\"\"\"\n",
        "  counts = Counter(numbers)\n",
        "  max_count = max(counts.values())\n",
        "  mode = [num for num, count in counts.items() if count == max_count]\n",
        "  return mode\n",
        "\n",
        "\n",
        "# (iv) Calculate the weighted mean\n",
        "def calculate_weighted_mean(values, weights):\n",
        "  \"\"\"Calculates the weighted mean of a list of values and their corresponding weights.\"\"\"\n",
        "  if not values or not weights or len(values) != len(weights):\n",
        "    return 0\n",
        "  return sum([val * weight for val, weight in zip(values, weights)]) / sum(weights)\n",
        "\n",
        "\n",
        "# (v) Calculate the geometric mean\n",
        "def calculate_geometric_mean(numbers):\n",
        "  \"\"\"Calculates the geometric mean of a list of positive numbers.\"\"\"\n",
        "  if not numbers or any(num <= 0 for num in numbers):\n",
        "    return 0\n",
        "  product = 1\n",
        "  for num in numbers:\n",
        "    product *= num\n",
        "  return product ** (1 / len(numbers))\n",
        "\n",
        "\n",
        "# (vi) Calculate the harmonic mean\n",
        "def calculate_harmonic_mean(numbers):\n",
        "  \"\"\"Calculates the harmonic mean of a list of numbers.\"\"\"\n",
        "  if not numbers or any(num <= 0 for num in numbers):\n",
        "    return 0\n",
        "  return len(numbers) / sum(1 / num for num in numbers)\n",
        "\n",
        "\n",
        "# (vii) Calculate the midrange\n",
        "def calculate_midrange(numbers):\n",
        "  \"\"\"Calculates the midrange of a list of numbers.\"\"\"\n",
        "  if not numbers:\n",
        "    return 0\n",
        "  return (min(numbers) + max(numbers)) / 2\n",
        "\n",
        "\n",
        "# (viii) Calculate the trimmed mean\n",
        "def calculate_trimmed_mean(numbers, percentage_trim):\n",
        "  \"\"\"Calculates the trimmed mean of a list, excluding a certain percentage of outliers.\"\"\"\n",
        "  if not numbers:\n",
        "    return 0\n",
        "  n = len(numbers)\n",
        "  k = int(n * percentage_trim / 100)\n",
        "  sorted_numbers = sorted(numbers)\n",
        "  trimmed_numbers = sorted_numbers[k:n - k]\n",
        "  return calculate_mean(trimmed_numbers)\n",
        "\n",
        "\n",
        "# Example Usage:\n",
        "mean = calculate_mean(int_list)\n",
        "median = calculate_median(int_list)\n",
        "mode = calculate_mode(int_list)\n",
        "weighted_mean = calculate_weighted_mean(int_list, [1] * len(int_list))  # Equal weights\n",
        "geometric_mean = calculate_geometric_mean(int_list)\n",
        "harmonic_mean = calculate_harmonic_mean(int_list)\n",
        "midrange = calculate_midrange(int_list)\n",
        "trimmed_mean = calculate_trimmed_mean(int_list, 5)  # Trim 5% of outliers\n",
        "\n",
        "print(\"Mean:\", mean)\n",
        "print(\"Median:\", median)\n",
        "print(\"Mode:\", mode)\n",
        "print(\"Weighted Mean:\", weighted_mean)\n",
        "print(\"Geometric Mean:\", geometric_mean)\n",
        "print(\"Harmonic Mean:\", harmonic_mean)\n",
        "print(\"Midrange:\", midrange)\n",
        "print(\"Trimmed Mean (5%):\", trimmed_mean)"
      ]
    },
    {
      "cell_type": "markdown",
      "source": [
        " #2Q. Generate a list of 500 integers containing values between 200 to 300 and store it in the variable `int_list2`.\n",
        "After generating the list, find the following:\n",
        "\n",
        "(i) Compare the given list of visualization for the given data:\n",
        "\n",
        "    1. Frequency & Gaussian distribution\n",
        "\n",
        "    2. Frequency smoothened KDE plot\n",
        "\n",
        "    3. Gaussian distribution & smoothened KDE plot\n",
        "\n",
        "(ii) Write a Python function to calculate the range of a given list of numbers.\n",
        "\n",
        "(iii) Create a program to find the variance and standard deviation of a list of numbers.\n",
        "\n",
        "(iv) Implement a function to compute the interquartile range (IQR) of a list of values.\n",
        "\n",
        "(v) Build a program to calculate the coefficient of variation for a dataset.\n",
        "\n",
        "(vi) Write a Python function to find the mean absolute deviation (MAD) of a list of numbers.\n",
        "\n",
        "(vii) Create a program to calculate the quartile deviation of a list of values.\n",
        "\n",
        "(viii) Implement a function to find the range-based coefficient of dispersion for a dataset"
      ],
      "metadata": {
        "id": "ESEk90g4HqGr"
      }
    },
    {
      "cell_type": "code",
      "source": [
        "import random\n",
        "import statistics\n",
        "from collections import Counter\n",
        "\n",
        "\n",
        "# Generate a list of 100 integers between 90 and 130\n",
        "int_list = [random.randint(90, 130) for _ in range(100)]\n",
        "\n",
        "\n",
        "# Generate a list of 500 integers between 200 and 300\n",
        "int_list2 = [random.randint(200, 300) for _ in range(500)]\n",
        "\n",
        "\n",
        "# (i) Calculate the mean\n",
        "def calculate_mean(numbers):\n",
        "  \"\"\"Calculates the arithmetic mean of a list of numbers.\"\"\"\n",
        "  return sum(numbers) / len(numbers) if numbers else 0\n",
        "\n",
        "\n",
        "# (ii) Calculate the median\n",
        "def calculate_median(numbers):\n",
        "  \"\"\"Calculates the median of a list of numbers.\"\"\"\n",
        "  return statistics.median(numbers)\n",
        "\n",
        "\n",
        "# (iii) Calculate the mode\n",
        "def calculate_mode(numbers):\n",
        "  \"\"\"Calculates the mode of a list of numbers.\"\"\"\n",
        "  counts = Counter(numbers)\n",
        "  max_count = max(counts.values())\n",
        "  mode = [num for num, count in counts.items() if count == max_count]\n",
        "  return mode\n",
        "\n",
        "\n",
        "# (iv) Calculate the weighted mean\n",
        "def calculate_weighted_mean(values, weights):\n",
        "  \"\"\"Calculates the weighted mean of a list of values and their corresponding weights.\"\"\"\n",
        "  if not values or not weights or len(values) != len(weights):\n",
        "    return 0\n",
        "  return sum([val * weight for val, weight in zip(values, weights)]) / sum(weights)\n",
        "\n",
        "\n",
        "# (v) Calculate the geometric mean\n",
        "def calculate_geometric_mean(numbers):\n",
        "  \"\"\"Calculates the geometric mean of a list of positive numbers.\"\"\"\n",
        "  if not numbers or any(num <= 0 for num in numbers):\n",
        "    return 0\n",
        "  product = 1\n",
        "  for num in numbers:\n",
        "    product *= num\n",
        "  return product ** (1 / len(numbers))\n",
        "\n",
        "\n",
        "# (vi) Calculate the harmonic mean\n",
        "def calculate_harmonic_mean(numbers):\n",
        "  \"\"\"Calculates the harmonic mean of a list of numbers.\"\"\"\n",
        "  if not numbers or any(num <= 0 for num in numbers):\n",
        "    return 0\n",
        "  return len(numbers) / sum(1 / num for num in numbers)\n",
        "\n",
        "\n",
        "# (vii) Calculate the midrange\n",
        "def calculate_midrange(numbers):\n",
        "  \"\"\"Calculates the midrange of a list of numbers.\"\"\"\n",
        "  if not numbers:\n",
        "    return 0\n",
        "  return (min(numbers) + max(numbers)) / 2\n",
        "\n",
        "\n",
        "# (viii) Calculate the trimmed mean\n",
        "def calculate_trimmed_mean(numbers, percentage_trim):\n",
        "  \"\"\"Calculates the trimmed mean of a list, excluding a certain percentage of outliers.\"\"\"\n",
        "  if not numbers:\n",
        "    return 0\n",
        "  n = len(numbers)\n",
        "  k = int(n * percentage_trim / 100)\n",
        "  sorted_numbers = sorted(numbers)\n",
        "  trimmed_numbers = sorted_numbers[k:n - k]\n",
        "  return calculate_mean(trimmed_numbers)\n",
        "\n",
        "\n",
        "# 2. (ii) Python function to calculate the range of a given list of numbers\n",
        "def calculate_range(numbers):\n",
        "  \"\"\"Calculates the range of a list of numbers.\"\"\"\n",
        "  if not numbers:\n",
        "    return 0\n",
        "  return max(numbers) - min(numbers)\n",
        "\n",
        "\n",
        "# 2. (iii) Program to find the variance and standard deviation of a list of numbers\n",
        "def calculate_variance_std_deviation(numbers):\n",
        "  \"\"\"Calculates the variance and standard deviation of a list of numbers.\"\"\"\n",
        "  if not numbers:\n",
        "    return 0, 0\n",
        "  variance = statistics.variance(numbers)\n",
        "  std_deviation = statistics.stdev(numbers)\n",
        "  return variance, std_deviation\n",
        "\n",
        "\n",
        "# 2. (iv) Function to compute the interquartile range (IQR) of a list of values\n",
        "def calculate_iqr(numbers):\n",
        "  \"\"\"Calculates the interquartile range (IQR) of a list of numbers.\"\"\"\n",
        "  if not numbers:\n",
        "    return 0\n",
        "  q1 = statistics.quantiles(numbers)[0]\n",
        "  q3 = statistics.quantiles(numbers)[2]\n",
        "  return q3 - q1\n",
        "\n",
        "\n",
        "# 2. (v) Program to calculate the coefficient of variation for a dataset\n",
        "def calculate_coefficient_of_variation(numbers):\n",
        "  \"\"\"Calculates the coefficient of variation for a dataset.\"\"\"\n",
        "  if not numbers:\n",
        "    return 0\n",
        "  mean = calculate_mean(numbers)\n",
        "  if mean == 0:\n",
        "    return 0\n",
        "  std_deviation = statistics.stdev(numbers)\n",
        "  return (std_deviation / mean) * 100\n",
        "\n",
        "\n",
        "# 2. (vi) Python function to find the mean absolute deviation (MAD) of a list of numbers\n",
        "def calculate_mad(numbers):\n",
        "  \"\"\"Calculates the mean absolute deviation (MAD) of a list of numbers.\"\"\"\n",
        "  if not numbers:\n",
        "    return 0\n",
        "  mean = calculate_mean(numbers)\n",
        "  deviations = [abs(num - mean) for num in numbers]\n",
        "  return calculate_mean(deviations)\n",
        "\n",
        "\n",
        "# 2. (vii) Program to calculate the quartile deviation of a list of values\n",
        "def calculate_quartile_deviation(numbers):\n",
        "  \"\"\"Calculates the quartile deviation of a list of values.\"\"\"\n",
        "  if not numbers:\n",
        "    return 0\n",
        "  q1 = statistics.quantiles(numbers)[0]\n",
        "  q3 = statistics.quantiles(numbers)[2]\n",
        "  return (q3 - q1) / 2\n",
        "\n",
        "\n",
        "# 2. (viii) Function to find the range-based coefficient of dispersion for a dataset\n",
        "def calculate_range_coefficient_of_dispersion(numbers):\n",
        "  \"\"\"Calculates the range-based coefficient of dispersion for a dataset.\"\"\"\n",
        "  if not numbers:\n",
        "    return 0\n",
        "  range_val = calculate_range(numbers)\n",
        "  if range_val == 0:\n",
        "    return 0\n",
        "  mean = calculate_mean(numbers)\n",
        "  return range_val / mean\n",
        "\n",
        "\n",
        "# Example Usage:\n",
        "range_val = calculate_range(int_list2)\n",
        "variance, std_deviation = calculate_variance_std_deviation(int_list2)\n",
        "iqr = calculate_iqr(int_list2)\n",
        "cv = calculate_coefficient_of_variation(int_list2)\n",
        "mad = calculate_mad(int_list2)\n",
        "qd = calculate_quartile_deviation(int_list2)\n",
        "rcd = calculate_range_coefficient_of_dispersion(int_list2)\n",
        "\n",
        "print(\"Range:\", range_val)\n",
        "print(\"Variance:\", variance)\n",
        "print(\"Standard Deviation:\", std_deviation)\n",
        "print(\"IQR:\", iqr)\n",
        "print(\"Coefficient of Variation:\", cv)\n",
        "print(\"Mean Absolute Deviation:\", mad)\n",
        "print(\"Quartile Deviation:\", qd)\n",
        "print(\"Range-based Coefficient of Dispersion:\", rcd)"
      ],
      "metadata": {
        "colab": {
          "base_uri": "https://localhost:8080/"
        },
        "id": "T_vorPO2G-BI",
        "outputId": "11078691-8cc9-45ce-a463-3f9df9b80c0a"
      },
      "execution_count": 2,
      "outputs": [
        {
          "output_type": "stream",
          "name": "stdout",
          "text": [
            "Range: 100\n",
            "Variance: 825.3575310621243\n",
            "Standard Deviation: 28.729036375453394\n",
            "IQR: 48.0\n",
            "Coefficient of Variation: 11.403669451372373\n",
            "Mean Absolute Deviation: 24.684288000000002\n",
            "Quartile Deviation: 24.0\n",
            "Range-based Coefficient of Dispersion: 0.3969388079133721\n"
          ]
        }
      ]
    },
    {
      "cell_type": "markdown",
      "source": [
        "#3Q. Write a Python class representing a discrete random variable with methods to calculate its expected value and variance."
      ],
      "metadata": {
        "id": "kW8JhFc_IHHx"
      }
    },
    {
      "cell_type": "code",
      "source": [
        "# prompt: \u001d)  Write a Python class representing a discrete random variable with methods to calculate its expected\n",
        "# value and variance.\n",
        "\n",
        "class DiscreteRandomVariable:\n",
        "    def __init__(self, probabilities):\n",
        "        \"\"\"\n",
        "        Initializes a DiscreteRandomVariable with a dictionary of probabilities.\n",
        "\n",
        "        Args:\n",
        "            probabilities: A dictionary where keys are the possible values of the\n",
        "                           random variable and values are their corresponding probabilities.\n",
        "        \"\"\"\n",
        "        self.probabilities = probabilities\n",
        "\n",
        "    def expected_value(self):\n",
        "        \"\"\"Calculates the expected value of the random variable.\"\"\"\n",
        "        expected_value = 0\n",
        "        for value, probability in self.probabilities.items():\n",
        "            expected_value += value * probability\n",
        "        return expected_value\n",
        "\n",
        "    def variance(self):\n",
        "        \"\"\"Calculates the variance of the random variable.\"\"\"\n",
        "        expected_value = self.expected_value()\n",
        "        variance = 0\n",
        "        for value, probability in self.probabilities.items():\n",
        "            variance += probability * ((value - expected_value) ** 2)\n",
        "        return variance\n",
        "\n",
        "\n",
        "# Example usage:\n",
        "probabilities = {1: 0.2, 2: 0.3, 3: 0.5}\n",
        "random_variable = DiscreteRandomVariable(probabilities)\n",
        "print(\"Expected Value:\", random_variable.expected_value())\n",
        "print(\"Variance:\", random_variable.variance())"
      ],
      "metadata": {
        "colab": {
          "base_uri": "https://localhost:8080/"
        },
        "id": "9727e0WKIHkY",
        "outputId": "9f053bdb-66bd-447b-a5bc-1faf91569a10"
      },
      "execution_count": 3,
      "outputs": [
        {
          "output_type": "stream",
          "name": "stdout",
          "text": [
            "Expected Value: 2.3\n",
            "Variance: 0.61\n"
          ]
        },
        {
          "output_type": "stream",
          "name": "stderr",
          "text": [
            "/usr/local/lib/python3.10/dist-packages/IPython/core/inputtransformer2.py:478: UserWarning: `make_tokens_by_line` received a list of lines which do not have lineending markers ('\\n', '\\r', '\\r\\n', '\\x0b', '\\x0c'), behavior will be unspecified\n",
            "  warnings.warn(\"`make_tokens_by_line` received a list of lines which do not have lineending markers ('\\\\n', '\\\\r', '\\\\r\\\\n', '\\\\x0b', '\\\\x0c'), behavior will be unspecified\")\n"
          ]
        }
      ]
    },
    {
      "cell_type": "markdown",
      "source": [
        "#4Q. Implement a program to simulate the rolling of a fair six-sided die and calculate the expected value and variance of the outcomes."
      ],
      "metadata": {
        "id": "2gbYFOwcIiQB"
      }
    },
    {
      "cell_type": "code",
      "source": [
        "import random\n",
        "\n",
        "def simulate_die_rolls(num_rolls):\n",
        "  \"\"\"Simulates rolling a fair six-sided die multiple times.\n",
        "\n",
        "  Args:\n",
        "    num_rolls: The number of times to roll the die.\n",
        "\n",
        "  Returns:\n",
        "    A list of the outcomes of the die rolls.\n",
        "  \"\"\"\n",
        "  rolls = [random.randint(1, 6) for _ in range(num_rolls)]\n",
        "  return rolls\n",
        "\n",
        "\n",
        "def calculate_expected_value(outcomes):\n",
        "  \"\"\"Calculates the expected value of a list of outcomes.\"\"\"\n",
        "  return sum(outcomes) / len(outcomes)\n",
        "\n",
        "\n",
        "def calculate_variance(outcomes):\n",
        "  \"\"\"Calculates the variance of a list of outcomes.\"\"\"\n",
        "  expected_value = calculate_expected_value(outcomes)\n",
        "  squared_deviations = [(outcome - expected_value) ** 2 for outcome in outcomes]\n",
        "  return sum(squared_deviations) / len(outcomes)\n",
        "\n",
        "\n",
        "# Simulate 1000 rolls of a fair six-sided die\n",
        "num_rolls = 1000\n",
        "rolls = simulate_die_rolls(num_rolls)\n",
        "\n",
        "# Calculate the expected value and variance\n",
        "expected_value = calculate_expected_value(rolls)\n",
        "variance = calculate_variance(rolls)\n",
        "\n",
        "print(\"Expected Value:\", expected_value)\n",
        "print(\"Variance:\", variance)"
      ],
      "metadata": {
        "colab": {
          "base_uri": "https://localhost:8080/"
        },
        "id": "ly1ZjDFFIinx",
        "outputId": "2dc711ee-d55b-4f3e-b045-e3fca56e392e"
      },
      "execution_count": 4,
      "outputs": [
        {
          "output_type": "stream",
          "name": "stdout",
          "text": [
            "Expected Value: 3.553\n",
            "Variance: 2.883191000000002\n"
          ]
        }
      ]
    },
    {
      "cell_type": "markdown",
      "source": [
        "#5Q. Create a Python function to generate random samples from a given probability distribution (e.g.,binomial, Poisson) and calculate their mean and variance."
      ],
      "metadata": {
        "id": "elARU4iqI2I3"
      }
    },
    {
      "cell_type": "code",
      "source": [
        "import numpy as np\n",
        "\n",
        "def generate_samples_and_calculate_stats(distribution, **kwargs):\n",
        "  \"\"\"Generates random samples from a given probability distribution and calculates their mean and variance.\n",
        "\n",
        "  Args:\n",
        "    distribution: A string representing the probability distribution (e.g., 'binomial', 'poisson').\n",
        "    **kwargs: Keyword arguments specific to the chosen distribution. For example:\n",
        "              - 'binomial': n (number of trials), p (probability of success)\n",
        "              - 'poisson': lam (lambda, rate parameter)\n",
        "\n",
        "  Returns:\n",
        "    A tuple containing the generated samples, their mean, and their variance.\n",
        "  \"\"\"\n",
        "  if distribution == 'binomial':\n",
        "    n = kwargs.get('n')\n",
        "    p = kwargs.get('p')\n",
        "    if n is None or p is None:\n",
        "      raise ValueError(\"For binomial distribution, 'n' and 'p' must be provided.\")\n",
        "    samples = np.random.binomial(n, p, size=1000)  # Generate 1000 samples\n",
        "  elif distribution == 'poisson':\n",
        "    lam = kwargs.get('lam')\n",
        "    if lam is None:\n",
        "      raise ValueError(\"For Poisson distribution, 'lam' must be provided.\")\n",
        "    samples = np.random.poisson(lam, size=1000)\n",
        "  else:\n",
        "    raise ValueError(\"Unsupported distribution. Choose 'binomial' or 'poisson'.\")\n",
        "\n",
        "  mean = np.mean(samples)\n",
        "  variance = np.var(samples)\n",
        "  return samples, mean, variance\n",
        "\n",
        "\n",
        "# Example usage:\n",
        "# Generate samples from a binomial distribution with n=10, p=0.5\n",
        "samples, mean, variance = generate_samples_and_calculate_stats('binomial', n=10, p=0.5)\n",
        "print(\"Binomial Distribution:\")\n",
        "print(\"Samples:\", samples[:20])  # Print a few samples\n",
        "print(\"Mean:\", mean)\n",
        "print(\"Variance:\", variance)\n",
        "\n",
        "# Generate samples from a Poisson distribution with lambda=5\n",
        "samples, mean, variance = generate_samples_and_calculate_stats('poisson', lam=5)\n",
        "print(\"\\nPoisson Distribution:\")\n",
        "print(\"Samples:\", samples[:20])\n",
        "print(\"Mean:\", mean)\n",
        "print(\"Variance:\", variance)"
      ],
      "metadata": {
        "colab": {
          "base_uri": "https://localhost:8080/"
        },
        "id": "o6Z2zTGyI2AY",
        "outputId": "db7a1d35-2104-4c45-84bf-9ea95f04b96d"
      },
      "execution_count": 5,
      "outputs": [
        {
          "output_type": "stream",
          "name": "stdout",
          "text": [
            "Binomial Distribution:\n",
            "Samples: [5 5 4 4 5 3 5 5 4 3 6 3 5 6 4 2 5 4 3 7]\n",
            "Mean: 4.992\n",
            "Variance: 2.5319359999999995\n",
            "\n",
            "Poisson Distribution:\n",
            "Samples: [ 7  7 10  6  2  3  7  4  2  4  3  6  3  3  1  4  6  4  3  8]\n",
            "Mean: 5.026\n",
            "Variance: 4.8393239999999995\n"
          ]
        }
      ]
    },
    {
      "cell_type": "markdown",
      "source": [
        "#6Q. Write a Python script to generate random numbers from a Gaussian (normal) distribution and compute the mean, variance, and standard deviation of the samples."
      ],
      "metadata": {
        "id": "NR9G3SCbJJWj"
      }
    },
    {
      "cell_type": "code",
      "source": [
        "import random\n",
        "import statistics\n",
        "from collections import Counter\n",
        "import numpy as np\n",
        "\n",
        "# Generate random numbers from a Gaussian distribution\n",
        "num_samples = 1000\n",
        "mean = 0  # Mean of the Gaussian distribution\n",
        "std_dev = 1  # Standard deviation of the Gaussian distribution\n",
        "samples = np.random.normal(mean, std_dev, num_samples)\n",
        "\n",
        "# Calculate the mean, variance, and standard deviation of the samples\n",
        "sample_mean = np.mean(samples)\n",
        "sample_variance = np.var(samples)\n",
        "sample_std_dev = np.std(samples)\n",
        "\n",
        "print(\"Generated Samples:\", samples[:20])  # Print a few samples\n",
        "print(\"Sample Mean:\", sample_mean)\n",
        "print(\"Sample Variance:\", sample_variance)\n",
        "print(\"Sample Standard Deviation:\", sample_std_dev)"
      ],
      "metadata": {
        "colab": {
          "base_uri": "https://localhost:8080/"
        },
        "id": "B9OHaRVHJJNb",
        "outputId": "6cbd5805-f9a8-4828-e865-06fbed7d93f3"
      },
      "execution_count": 6,
      "outputs": [
        {
          "output_type": "stream",
          "name": "stdout",
          "text": [
            "Generated Samples: [-0.94719708 -0.80181643 -0.09295907 -0.70987023  0.9907035   0.70694369\n",
            "  0.17402369  1.51993047  0.13357227 -0.34265487 -0.13549766 -0.83108244\n",
            "  0.72581027  1.50650667 -1.0222335   2.01267161  0.55267352 -0.63171994\n",
            "  1.08503606  0.11131416]\n",
            "Sample Mean: -0.01523237139253481\n",
            "Sample Variance: 0.9709332575656914\n",
            "Sample Standard Deviation: 0.9853594560188131\n"
          ]
        }
      ]
    },
    {
      "cell_type": "markdown",
      "source": [
        "#7Q. Use seaborn library to load tips dataset. Find the following from the dataset for the columns total_bill and tip`:\n",
        "\n",
        "(i) Write a Python function that calculates their skewness.\n",
        "\n",
        "(ii) Create a program that determines whether the columns exhibit positive skewness, negative skewness, or is\n",
        "approximately symmetric.\n",
        "\n",
        "(iii) Write a function that calculates the covariance between two columns.\n",
        "\n",
        "(iv) Implement a Python program that calculates the Pearson correlation coefficient between two columns.\n",
        "\n",
        "(v) Write a script to visualize the correlation between two specific columns in a Pandas DataFrame using\n",
        "scatter plots."
      ],
      "metadata": {
        "id": "xjZDyA92Jdxi"
      }
    },
    {
      "cell_type": "code",
      "source": [
        "import seaborn as sns\n",
        "import pandas as pd\n",
        "import matplotlib.pyplot as plt\n",
        "\n",
        "# Load the tips dataset\n",
        "tips = sns.load_dataset('tips')\n",
        "\n",
        "# (i) Function to calculate skewness\n",
        "def calculate_skewness(data):\n",
        "  \"\"\"Calculates the skewness of a dataset.\"\"\"\n",
        "  return data.skew()\n",
        "\n",
        "# (ii) Program to determine skewness type\n",
        "def analyze_skewness(data):\n",
        "  \"\"\"Determines whether a dataset exhibits positive, negative, or symmetric skewness.\"\"\"\n",
        "  skewness = calculate_skewness(data)\n",
        "  if skewness > 0:\n",
        "    print(\"The data is positively skewed.\")\n",
        "  elif skewness < 0:\n",
        "    print(\"The data is negatively skewed.\")\n",
        "  else:\n",
        "    print(\"The data is approximately symmetric.\")\n",
        "\n",
        "# Calculate and analyze skewness for total_bill and tip\n",
        "print(\"Skewness for total_bill:\")\n",
        "analyze_skewness(tips['total_bill'])\n",
        "\n",
        "print(\"\\nSkewness for tip:\")\n",
        "analyze_skewness(tips['tip'])\n",
        "\n",
        "\n",
        "# (iii) Function to calculate covariance\n",
        "def calculate_covariance(data1, data2):\n",
        "  \"\"\"Calculates the covariance between two datasets.\"\"\"\n",
        "  return data1.cov(data2)\n",
        "\n",
        "# Calculate covariance between total_bill and tip\n",
        "covariance = calculate_covariance(tips['total_bill'], tips['tip'])\n",
        "print(\"\\nCovariance between total_bill and tip:\", covariance)\n",
        "\n",
        "# (iv) Program to calculate Pearson correlation coefficient\n",
        "def calculate_correlation(data1, data2):\n",
        "  \"\"\"Calculates the Pearson correlation coefficient between two datasets.\"\"\"\n",
        "  return data1.corr(data2)\n",
        "\n",
        "# Calculate Pearson correlation between total_bill and tip\n",
        "correlation = calculate_correlation(tips['total_bill'], tips['tip'])\n",
        "print(\"\\nPearson correlation coefficient between total_bill and tip:\", correlation)\n",
        "\n",
        "\n",
        "# (v) Script to visualize correlation using scatter plots\n",
        "def visualize_correlation(df, col1, col2):\n",
        "  \"\"\"Visualizes the correlation between two columns in a Pandas DataFrame using scatter plots.\"\"\"\n",
        "  plt.figure(figsize=(8, 6))\n",
        "  plt.scatter(df[col1], df[col2])\n",
        "  plt.xlabel(col1)\n",
        "  plt.ylabel(col2)\n",
        "  plt.title(f\"Scatter Plot of {col1} vs {col2}\")\n",
        "  plt.show()\n",
        "\n",
        "# Visualize the correlation between total_bill and tip\n",
        "visualize_correlation(tips, 'total_bill', 'tip')"
      ],
      "metadata": {
        "colab": {
          "base_uri": "https://localhost:8080/",
          "height": 720
        },
        "id": "q1OYCKFWJdnJ",
        "outputId": "2dbe4fda-e470-49b7-9e27-88aa5d7dd09b"
      },
      "execution_count": 7,
      "outputs": [
        {
          "output_type": "stream",
          "name": "stdout",
          "text": [
            "Skewness for total_bill:\n",
            "The data is positively skewed.\n",
            "\n",
            "Skewness for tip:\n",
            "The data is positively skewed.\n",
            "\n",
            "Covariance between total_bill and tip: 8.323501629224854\n",
            "\n",
            "Pearson correlation coefficient between total_bill and tip: 0.6757341092113641\n"
          ]
        },
        {
          "output_type": "display_data",
          "data": {
            "text/plain": [
              "<Figure size 800x600 with 1 Axes>"
            ],
            "image/png": "[encoded data removed]"
          },
          "metadata": {}
        }
      ]
    },
    {
      "cell_type": "markdown",
      "source": [
        "#8Q. Write a Python function to calculate the probability density function (PDF) of a continuous random variable for a given normal distribution.\n"
      ],
      "metadata": {
        "id": "AXV6bTvIJ3TN"
      }
    },
    {
      "cell_type": "code",
      "source": [
        "from scipy.stats import norm\n",
        "\n",
        "def normal_pdf(x, mean, std_dev):\n",
        "  \"\"\"\n",
        "  Calculates the probability density function (PDF) of a normal distribution.\n",
        "\n",
        "  Args:\n",
        "    x: The value at which to evaluate the PDF.\n",
        "    mean: The mean of the normal distribution.\n",
        "    std_dev: The standard deviation of the normal distribution.\n",
        "\n",
        "  Returns:\n",
        "    The PDF value at x.\n",
        "  \"\"\"\n",
        "  return norm.pdf(x, loc=mean, scale=std_dev)\n",
        "\n",
        "# Example usage:\n",
        "mean = 5\n",
        "std_dev = 2\n",
        "x = 3\n",
        "pdf_value = normal_pdf(x, mean, std_dev)\n",
        "print(f\"The PDF value at x={x} for a normal distribution with mean={mean} and std_dev={std_dev} is: {pdf_value}\")"
      ],
      "metadata": {
        "colab": {
          "base_uri": "https://localhost:8080/"
        },
        "id": "-yxFm4xVJ3IL",
        "outputId": "ed0d89bf-fe77-4800-de92-932dbe3d67f6"
      },
      "execution_count": 8,
      "outputs": [
        {
          "output_type": "stream",
          "name": "stdout",
          "text": [
            "The PDF value at x=3 for a normal distribution with mean=5 and std_dev=2 is: 0.12098536225957168\n"
          ]
        }
      ]
    },
    {
      "cell_type": "markdown",
      "source": [
        "#9Q. Create a program to calculate the cumulative distribution function (CDF) of exponential distribution."
      ],
      "metadata": {
        "id": "1aomdcYcKJvp"
      }
    },
    {
      "cell_type": "code",
      "source": [
        "from scipy.stats import expon\n",
        "\n",
        "def calculate_cdf_exponential(x, lambd):\n",
        "  \"\"\"\n",
        "  Calculates the cumulative distribution function (CDF) of an exponential distribution.\n",
        "\n",
        "  Args:\n",
        "    x: The value at which to evaluate the CDF.\n",
        "    lambd: The rate parameter of the exponential distribution (lambda).\n",
        "\n",
        "  Returns:\n",
        "    The CDF value at x.\n",
        "  \"\"\"\n",
        "  return expon.cdf(x, scale=1/lambd)\n",
        "\n",
        "# Example usage:\n",
        "lambd = 2  # Rate parameter (lambda)\n",
        "x = 1\n",
        "cdf_value = calculate_cdf_exponential(x, lambd)\n",
        "print(f\"The CDF value at x={x} for an exponential distribution with lambda={lambd} is: {cdf_value}\")"
      ],
      "metadata": {
        "colab": {
          "base_uri": "https://localhost:8080/"
        },
        "id": "Cq121NL8KJpI",
        "outputId": "b05812a7-6306-4af7-d320-71c49ca22402"
      },
      "execution_count": 9,
      "outputs": [
        {
          "output_type": "stream",
          "name": "stdout",
          "text": [
            "The CDF value at x=1 for an exponential distribution with lambda=2 is: 0.8646647167633873\n"
          ]
        }
      ]
    },
    {
      "cell_type": "markdown",
      "source": [
        "#Q 10. Write a Python function to calculate the probability mass function (PMF) of Poisson distribution."
      ],
      "metadata": {
        "id": "9uwNxORFKZX9"
      }
    },
    {
      "cell_type": "code",
      "source": [
        "import math\n",
        "\n",
        "def poisson_pmf(k, lambd):\n",
        "  \"\"\"\n",
        "  Calculates the probability mass function (PMF) of a Poisson distribution.\n",
        "\n",
        "  Args:\n",
        "    k: The number of events.\n",
        "    lambd: The average rate of events (lambda).\n",
        "\n",
        "  Returns:\n",
        "    The PMF value at k.\n",
        "  \"\"\"\n",
        "  if k < 0:\n",
        "    return 0\n",
        "  return (lambd**k * math.exp(-lambd)) / math.factorial(k)\n",
        "\n",
        "# Example usage:\n",
        "lambd = 3  # Average rate of events\n",
        "k = 2  # Number of events\n",
        "pmf_value = poisson_pmf(k, lambd)\n",
        "print(f\"The PMF value at k={k} for a Poisson distribution with lambda={lambd} is: {pmf_value}\")"
      ],
      "metadata": {
        "colab": {
          "base_uri": "https://localhost:8080/"
        },
        "id": "7vwVK46eKZK0",
        "outputId": "cb65ba15-3ada-44cb-843d-a7dc4ecf3e24"
      },
      "execution_count": 10,
      "outputs": [
        {
          "output_type": "stream",
          "name": "stdout",
          "text": [
            "The PMF value at k=2 for a Poisson distribution with lambda=3 is: 0.22404180765538775\n"
          ]
        }
      ]
    },
    {
      "cell_type": "markdown",
      "source": [
        "#11Q. A company wants to test if a new website layout leads to a higher conversion rate (percentage of visitors\n",
        "who make a purchase). They collect data from the old and new layouts to compare.\n",
        "\n",
        "\n",
        "To generate the data use the following command:\n",
        "\n",
        "python\n",
        "\n",
        "import numpy as np\n",
        "\n",
        "50 purchases out of 1000 visitors\n",
        "\n",
        "old_layout = np.array([1] * 50 + [0] * 950)\n",
        "\n",
        "70 purchases out of 1000 visitors  \n",
        "\n",
        "new_layout = np.array([1] * 70 + [0] * 930)\n",
        "\n",
        "Apply z-test to find which layout is successful.\n",
        "\n"
      ],
      "metadata": {
        "id": "NV2NzPKwKx4m"
      }
    },
    {
      "cell_type": "code",
      "source": [
        "import numpy as np\n",
        "from statsmodels.stats.weightstats import ztest\n",
        "\n",
        "# Generate data for old and new layouts\n",
        "old_layout = np.array([1] * 50 + [0] * 950)\n",
        "new_layout = np.array([1] * 70 + [0] * 930)\n",
        "\n",
        "# Perform a two-sample z-test for proportions\n",
        "z_statistic, p_value = ztest(old_layout, new_layout, alternative='smaller')\n",
        "\n",
        "# Print results\n",
        "print(f\"Z-statistic: {z_statistic}\")\n",
        "print(f\"P-value: {p_value}\")\n",
        "\n",
        "# Interpret results\n",
        "alpha = 0.05  # Significance level\n",
        "if p_value < alpha:\n",
        "  print(\"The new layout leads to a significantly higher conversion rate than the old layout.\")\n",
        "else:\n",
        "  print(\"There is no significant difference in conversion rate between the old and new layouts.\")"
      ],
      "metadata": {
        "colab": {
          "base_uri": "https://localhost:8080/"
        },
        "id": "ePdZV9QZKxlu",
        "outputId": "053736c1-1981-4958-f58f-f3948a723dba"
      },
      "execution_count": 11,
      "outputs": [
        {
          "output_type": "stream",
          "name": "stdout",
          "text": [
            "Z-statistic: -1.883837962960912\n",
            "P-value: 0.029793448378725884\n",
            "The new layout leads to a significantly higher conversion rate than the old layout.\n"
          ]
        }
      ]
    },
    {
      "cell_type": "markdown",
      "source": [
        "#12Q .;¤M A tutoring service claims that its program improves students' exam scores. A sample of students who\n",
        "participated in the program was taken, and their scores before and after the program were recorded.\n",
        "\n",
        "Use the below code to generate samples of respective arrays of marks:\n",
        "\n",
        "```python\n",
        "\n",
        "before_program = np.array([75, 80, 85, 70, 90, 78, 92, 88, 82, 87])\n",
        "\n",
        "after_program = np.array([80, 85, 90, 80, 92, 80, 95, 90, 85, 88])\n",
        "\n",
        "```\n",
        "\n",
        "Use z-test to find if the claims made by tutor are true or false."
      ],
      "metadata": {
        "id": "fRTM1hgeozE6"
      }
    },
    {
      "cell_type": "markdown",
      "source": [
        "#12Q. A tutoring service claims that its program improves students' exam scores. A sample of students who\n",
        "participated in the program was taken, and their scores before and after the program were recorded.\n",
        "\n",
        "Use the below code to generate samples of respective arrays of marks:\n",
        "\n",
        "```python\n",
        "\n",
        "before_program = np.array([75, 80, 85, 70, 90, 78, 92, 88, 82, 87])\n",
        "\n",
        "after_program = np.array([80, 85, 90, 80, 92, 80, 95, 90, 85, 88])\n",
        "\n",
        "```\n",
        "\n",
        "Use z-test to find if the claims made by tutor are true or false."
      ],
      "metadata": {
        "id": "wRenemccq4oU"
      }
    },
    {
      "cell_type": "code",
      "source": [
        "import numpy as np\n",
        "from scipy import stats\n",
        "\n",
        "# Sample data\n",
        "before_program = np.array([75, 80, 85, 70, 90, 78, 92, 88, 82, 87])\n",
        "after_program = np.array([80, 85, 90, 80, 92, 80, 95, 90, 85, 88])\n",
        "\n",
        "# Calculate the differences (after - before)\n",
        "differences = after_program - before_program\n",
        "\n",
        "# Calculate the mean and standard deviation of the differences\n",
        "mean_difference = np.mean(differences)\n",
        "std_difference = np.std(differences, ddof=1)\n",
        "\n",
        "# Sample size\n",
        "n = len(differences)\n",
        "\n",
        "# Z-test statistic\n",
        "z = mean_difference / (std_difference / np.sqrt(n))\n",
        "\n",
        "# Calculate the p-value (one-tailed test because we're testing if after > before)\n",
        "p_value = 1 - stats.norm.cdf(z)\n",
        "\n",
        "# Display the results\n",
        "z, p_value"
      ],
      "metadata": {
        "colab": {
          "base_uri": "https://localhost:8080/"
        },
        "id": "mV_aLx6joy-c",
        "outputId": "07ab610f-adb7-4828-fcf6-0a3169cb9163"
      },
      "execution_count": 4,
      "outputs": [
        {
          "output_type": "execute_result",
          "data": {
            "text/plain": [
              "(4.593190894944668, 2.182597052646784e-06)"
            ]
          },
          "metadata": {},
          "execution_count": 4
        }
      ]
    },
    {
      "cell_type": "markdown",
      "source": [
        "#13Q. A pharmaceutical company wants to determine if a new drug is effective in reducing blood pressure. They\n",
        "conduct a study and record blood pressure measurements before and after administering the drug.\n",
        "\n",
        "Use the below code to generate samples of respective arrays of blood pressure:\n",
        "```python\n",
        "\n",
        "before_drug = np.array([145, 150, 140, 135, 155, 160, 152, 148, 130, 138])\n",
        "\n",
        "after_drug = np.array([130, 140, 132, 128, 145, 148, 138, 136, 125, 130])\n",
        "\n",
        "  ```\n",
        "Implement z-test to find if the drug really works or not."
      ],
      "metadata": {
        "id": "A--K9qbBrD_K"
      }
    },
    {
      "cell_type": "code",
      "source": [
        "before_drug = np.array([145, 150, 140, 135, 155, 160, 152, 148, 130, 138])\n",
        "after_drug = np.array([130, 140, 132, 128, 145, 148, 138, 136, 125, 130])\n",
        "\n",
        "# Calculate the differences (before - after)\n",
        "differences = before_drug - after_drug\n",
        "\n",
        "# Calculate the mean and standard deviation of the differences\n",
        "mean_difference = np.mean(differences)\n",
        "std_difference = np.std(differences, ddof=1)\n",
        "\n",
        "# Sample size\n",
        "n = len(differences)\n",
        "\n",
        "# Z-test statistic\n",
        "z = mean_difference / (std_difference / np.sqrt(n))\n",
        "\n",
        "# Calculate the p-value (one-tailed test because we're testing if before > after)\n",
        "p_value = 1 - stats.norm.cdf(z)\n",
        "\n",
        "# Display the results\n",
        "print(f\"Z-statistic: {z}\")\n",
        "print(f\"P-value: {p_value}\")\n",
        "\n",
        "# Interpret results\n",
        "alpha = 0.05  # Significance level\n",
        "if p_value < alpha:\n",
        "  print(\"The drug is significantly effective in reducing blood pressure.\")\n",
        "else:\n",
        "  print(\"There is no significant difference in blood pressure before and after taking the drug.\")"
      ],
      "metadata": {
        "colab": {
          "base_uri": "https://localhost:8080/"
        },
        "id": "IpaSNINErD3L",
        "outputId": "fcef97e7-f6cb-4aef-b207-43890cd367af"
      },
      "execution_count": 5,
      "outputs": [
        {
          "output_type": "stream",
          "name": "stdout",
          "text": [
            "Z-statistic: 10.049875621120888\n",
            "P-value: 0.0\n",
            "The drug is significantly effective in reducing blood pressure.\n"
          ]
        }
      ]
    },
    {
      "cell_type": "markdown",
      "source": [
        "#14Q. A customer service department claims that their average response time is less than 5 minutes. A sample\n",
        "of recent customer interactions was taken, and the response times were recorded.\n",
        "\n",
        "Implement the below code to generate the array of response time:\n",
        "\n",
        "```python\n",
        "\n",
        "response_times = np.array([4.3, 3.8, 5.1, 4.9, 4.7, 4.2, 5.2, 4.5, 4.6, 4.4])\n",
        "\n",
        "```\n",
        "\n",
        "Implement z-test to find the claims made by customer service department are tru or false."
      ],
      "metadata": {
        "id": "xG3mi_-4rXez"
      }
    },
    {
      "cell_type": "code",
      "source": [
        "import numpy as np\n",
        "from scipy import stats\n",
        "\n",
        "# Sample data\n",
        "before_program = np.array([75, 80, 85, 70, 90, 78, 92, 88, 82, 87])\n",
        "after_program = np.array([80, 85, 90, 80, 92, 80, 95, 90, 85, 88])\n",
        "\n",
        "# Calculate the differences (after - before)\n",
        "differences = after_program - before_program\n",
        "\n",
        "# Calculate the mean and standard deviation of the differences\n",
        "mean_difference = np.mean(differences)\n",
        "std_difference = np.std(differences, ddof=1)\n",
        "\n",
        "# Sample size\n",
        "n = len(differences)\n",
        "\n",
        "# Z-test statistic\n",
        "z = mean_difference / (std_difference / np.sqrt(n))\n",
        "\n",
        "# Calculate the p-value (one-tailed test because we're testing if after > before)\n",
        "p_value = 1 - stats.norm.cdf(z)\n",
        "\n",
        "# Display the results\n",
        "z, p_value\n"
      ],
      "metadata": {
        "colab": {
          "base_uri": "https://localhost:8080/"
        },
        "id": "sxXKR-x-rXYk",
        "outputId": "e47ad991-a502-4f2a-be84-e6f5fbb04c4f"
      },
      "execution_count": 7,
      "outputs": [
        {
          "output_type": "execute_result",
          "data": {
            "text/plain": [
              "(4.593190894944668, 2.182597052646784e-06)"
            ]
          },
          "metadata": {},
          "execution_count": 7
        }
      ]
    },
    {
      "cell_type": "markdown",
      "source": [
        "#15Q. A company is testing two different website layouts to see which one leads to higher click-through rates.\n",
        "Write a Python function to perform an A/B test analysis, including calculating the t-statistic, degrees of\n",
        "freedom, and p-value.\n",
        "\n",
        "Use the following data:\n",
        "\n",
        "```python\n",
        "\n",
        "layout_a_clicks = [28, 32, 33, 29, 31, 34, 30, 35, 36, 37]\n",
        "\n",
        "layout_b_clicks = [40, 41, 38, 42, 39, 44, 43, 41, 45, 47]"
      ],
      "metadata": {
        "id": "Ass5pTRqr6Ao"
      }
    },
    {
      "cell_type": "code",
      "source": [
        "import numpy as np\n",
        "from scipy import stats\n",
        "\n",
        "def ab_test_analysis(layout_a_clicks, layout_b_clicks):\n",
        "  \"\"\"\n",
        "  Performs an A/B test analysis to compare click-through rates between two layouts.\n",
        "\n",
        "  Args:\n",
        "    layout_a_clicks: A list of click-through rates for layout A.\n",
        "    layout_b_clicks: A list of click-through rates for layout B.\n",
        "\n",
        "  Returns:\n",
        "    A tuple containing the t-statistic, degrees of freedom, and p-value.\n",
        "  \"\"\"\n",
        "\n",
        "  t_statistic, p_value = stats.ttest_ind(layout_a_clicks, layout_b_clicks)\n",
        "  degrees_of_freedom = len(layout_a_clicks) + len(layout_b_clicks) - 2\n",
        "\n",
        "  return t_statistic, degrees_of_freedom, p_value\n",
        "\n",
        "# Example usage:\n",
        "layout_a_clicks = [28, 32, 33, 29, 31, 34, 30, 35, 36, 37]\n",
        "layout_b_clicks = [40, 41, 38, 42, 39, 44, 43, 41, 45, 47]\n",
        "\n",
        "t_statistic, degrees_of_freedom, p_value = ab_test_analysis(layout_a_clicks, layout_b_clicks)\n",
        "\n",
        "print(f\"T-statistic: {t_statistic}\")\n",
        "print(f\"Degrees of freedom: {degrees_of_freedom}\")\n",
        "print(f\"P-value: {p_value}\")\n",
        "\n",
        "# Interpret the results (e.g., if p-value < 0.05, there is a significant difference)"
      ],
      "metadata": {
        "colab": {
          "base_uri": "https://localhost:8080/"
        },
        "id": "2Gf3sFPdr51v",
        "outputId": "efc7c469-7e82-47d4-f226-a4183d8fe9ed"
      },
      "execution_count": 8,
      "outputs": [
        {
          "output_type": "stream",
          "name": "stdout",
          "text": [
            "T-statistic: -7.298102156175071\n",
            "Degrees of freedom: 18\n",
            "P-value: 8.833437608301987e-07\n"
          ]
        }
      ]
    },
    {
      "cell_type": "markdown",
      "source": [
        "#16Q. A pharmaceutical company wants to determine if a new drug is more effective than an existing drug in\n",
        "reducing cholesterol levels. Create a program to analyze the clinical trial data and calculate the tstatistic and p-value for the treatment effect.\n",
        "\n",
        "Use the following data of cholestrol level:\n",
        "\n",
        "```python\n",
        "\n",
        "existing_drug_levels = [180, 182, 175, 185, 178, 176, 172, 184, 179, 183]\n",
        "\n",
        "new_drug_levels = [170, 172, 165, 168, 175, 173, 170, 178, 172, 176]"
      ],
      "metadata": {
        "id": "4z1bOrfssu9M"
      }
    },
    {
      "cell_type": "code",
      "source": [
        "existing_drug_levels = [180, 182, 175, 185, 178, 176, 172, 184, 179, 183]\n",
        "new_drug_levels = [170, 172, 165, 168, 175, 173, 170, 178, 172, 176]\n",
        "\n",
        "# Perform an independent samples t-test\n",
        "t_statistic, p_value = stats.ttest_ind(existing_drug_levels, new_drug_levels)\n",
        "\n",
        "# Print the results\n",
        "print(\"T-statistic:\", t_statistic)\n",
        "print(\"P-value:\", p_value)\n",
        "\n",
        "# Interpret the results (e.g., if p-value < 0.05, there is a significant difference)"
      ],
      "metadata": {
        "colab": {
          "base_uri": "https://localhost:8080/"
        },
        "id": "wderYLuEsu1z",
        "outputId": "c6c1df0c-7c84-47cd-e976-5a7bccb23367"
      },
      "execution_count": 10,
      "outputs": [
        {
          "output_type": "stream",
          "name": "stdout",
          "text": [
            "T-statistic: 4.14048098620866\n",
            "P-value: 0.0006143398442372505\n"
          ]
        }
      ]
    },
    {
      "cell_type": "markdown",
      "source": [
        "#17Q. A school district introduces an educational intervention program to improve math scores. Write a Python\n",
        "function to analyze pre- and post-intervention test scores, calculating the t-statistic and p-value to\n",
        "determine if the intervention had a significant impact.\n",
        "\n",
        "\n",
        "Use the following data of test score:\n",
        "\n",
        "\n",
        "  ```python\n",
        "\n",
        "  pre_intervention_scores = [80, 85, 90, 75, 88, 82, 92, 78, 85, 87]\n",
        "\n",
        "  post_intervention_scores = [90, 92, 88, 92, 95, 91, 96, 93, 89, 93]"
      ],
      "metadata": {
        "id": "xuMB5qTztGwD"
      }
    },
    {
      "cell_type": "code",
      "source": [
        "from scipy import stats\n",
        "\n",
        "def analyze_intervention_impact(pre_intervention_scores, post_intervention_scores):\n",
        "  \"\"\"\n",
        "  Analyzes pre- and post-intervention test scores to determine if the intervention had a significant impact.\n",
        "\n",
        "  Args:\n",
        "    pre_intervention_scores: A list of test scores before the intervention.\n",
        "    post_intervention_scores: A list of test scores after the intervention.\n",
        "\n",
        "  Returns:\n",
        "    A tuple containing the t-statistic and p-value.\n",
        "  \"\"\"\n",
        "  t_statistic, p_value = stats.ttest_rel(pre_intervention_scores, post_intervention_scores)\n",
        "  return t_statistic, p_value\n",
        "\n",
        "\n",
        "# Example usage:\n",
        "pre_intervention_scores = [80, 85, 90, 75, 88, 82, 92, 78, 85, 87]\n",
        "post_intervention_scores = [90, 92, 88, 92, 95, 91, 96, 93, 89, 93]\n",
        "\n",
        "t_statistic, p_value = analyze_intervention_impact(pre_intervention_scores, post_intervention_scores)\n",
        "\n",
        "print(\"T-statistic:\", t_statistic)\n",
        "print(\"P-value:\", p_value)\n",
        "\n",
        "# Interpret the results (e.g., if p-value < 0.05, there is a significant difference)"
      ],
      "metadata": {
        "colab": {
          "base_uri": "https://localhost:8080/"
        },
        "id": "mLtCWFn5tGo8",
        "outputId": "85ecf127-cb62-4e4f-e060-8354daa0864f"
      },
      "execution_count": 11,
      "outputs": [
        {
          "output_type": "stream",
          "name": "stdout",
          "text": [
            "T-statistic: -4.42840883965761\n",
            "P-value: 0.0016509548165795493\n"
          ]
        }
      ]
    },
    {
      "cell_type": "markdown",
      "source": [
        "#18Q. An HR department wants to investigate if there's a gender-based salary gap within the company. Develop\n",
        "a program to analyze salary data, calculate the t-statistic, and determine if there's a statistically\n",
        "significant difference between the average salaries of male and female employees.\n",
        "\n",
        "Use the below code to generate synthetic data:\n",
        "\n",
        "```python\n",
        "\n",
        "Generate synthetic salary data for male and female employees\n",
        "\n",
        "np.random.seed(0)\n",
        "\n",
        "male_salaries = np.random.normal(loc=50000, scale=10000, size=20)\n",
        "\n",
        "female_salaries = np.random.normal(loc=55000, scale=9000, size=20)"
      ],
      "metadata": {
        "id": "YLpI7QSetan3"
      }
    },
    {
      "cell_type": "code",
      "source": [
        "np.random.seed(0)\n",
        "male_salaries = np.random.normal(loc=50000, scale=10000, size=20)\n",
        "female_salaries = np.random.normal(loc=55000, scale=9000, size=20)\n",
        "\n",
        "# Perform an independent samples t-test\n",
        "t_statistic, p_value = stats.ttest_ind(male_salaries, female_salaries)\n",
        "\n",
        "# Print the results\n",
        "print(\"T-statistic:\", t_statistic)\n",
        "print(\"P-value:\", p_value)\n",
        "\n",
        "# Interpret the results (e.g., if p-value < 0.05, there is a significant difference)\n",
        "alpha = 0.05\n",
        "if p_value < alpha:\n",
        "    print(\"There is a statistically significant difference in average salaries between male and female employees.\")\n",
        "else:\n",
        "    print(\"There is no statistically significant difference in average salaries between male and female employees.\")"
      ],
      "metadata": {
        "colab": {
          "base_uri": "https://localhost:8080/"
        },
        "id": "lZjHLOw9tahR",
        "outputId": "a0bcd83a-d020-4b31-dd05-61cf475d858f"
      },
      "execution_count": 13,
      "outputs": [
        {
          "output_type": "stream",
          "name": "stdout",
          "text": [
            "T-statistic: 0.06114208969631383\n",
            "P-value: 0.9515665020676465\n",
            "There is no statistically significant difference in average salaries between male and female employees.\n"
          ]
        }
      ]
    },
    {
      "cell_type": "markdown",
      "source": [
        "#19Q. A manufacturer produces two different versions of a product and wants to compare their quality scores.\n",
        "Create a Python function to analyze quality assessment data, calculate the t-statistic, and decide\n",
        "whether there's a significant difference in quality between the two versions.\n",
        "\n",
        "\n",
        "Use the following data:\n",
        "\n",
        "\n",
        "```python\n",
        "\n",
        "version1_scores = [85, 88, 82, 89, 87, 84, 90, 88, 85, 86, 91, 83, 87, 84, 89, 86, 84, 88, 85, 86, 89, 90, 87, 88, 85]\n",
        "\n",
        "version2_scores = [80, 78, 83, 81, 79, 82, 76, 80, 78, 81, 77, 82, 80, 79, 82, 79, 80, 81, 79, 82, 79, 78, 80, 81, 82]\n",
        "\n",
        "```"
      ],
      "metadata": {
        "id": "lK-n6n1mt4U1"
      }
    },
    {
      "cell_type": "code",
      "source": [
        "def compare_product_quality(version1_scores, version2_scores):\n",
        "  \"\"\"\n",
        "  Analyzes quality assessment data and determines if there's a significant difference\n",
        "  between two product versions.\n",
        "\n",
        "  Args:\n",
        "    version1_scores: A list of quality scores for version 1.\n",
        "    version2_scores: A list of quality scores for version 2.\n",
        "\n",
        "  Returns:\n",
        "    A tuple containing the t-statistic and p-value.\n",
        "  \"\"\"\n",
        "\n",
        "  t_statistic, p_value = stats.ttest_ind(version1_scores, version2_scores)\n",
        "  return t_statistic, p_value\n",
        "\n",
        "\n",
        "# Example usage:\n",
        "version1_scores = [85, 88, 82, 89, 87, 84, 90, 88, 85, 86, 91, 83, 87, 84, 89, 86, 84, 88, 85, 86, 89, 90, 87, 88, 85]\n",
        "version2_scores = [80, 78, 83, 81, 79, 82, 76, 80, 78, 81, 77, 82, 80, 79, 82, 79, 80, 81, 79, 82, 79, 78, 80, 81, 82]\n",
        "\n",
        "t_statistic, p_value = compare_product_quality(version1_scores, version2_scores)\n",
        "\n",
        "print(\"T-statistic:\", t_statistic)\n",
        "print(\"P-value:\", p_value)\n",
        "\n",
        "# Interpret the results (e.g., if p-value < 0.05, there is a significant difference)\n",
        "alpha = 0.05\n",
        "if p_value < alpha:\n",
        "    print(\"There is a statistically significant difference in quality between the two product versions.\")\n",
        "else:\n",
        "    print(\"There is no statistically significant difference in quality between the two product versions.\")"
      ],
      "metadata": {
        "colab": {
          "base_uri": "https://localhost:8080/"
        },
        "id": "rj8xWjZpt4OM",
        "outputId": "fc0f1e5e-996e-4240-c0c0-e2f569018c9f"
      },
      "execution_count": 15,
      "outputs": [
        {
          "output_type": "stream",
          "name": "stdout",
          "text": [
            "T-statistic: 11.325830417646698\n",
            "P-value: 3.6824250702873965e-15\n",
            "There is a statistically significant difference in quality between the two product versions.\n"
          ]
        }
      ]
    },
    {
      "cell_type": "markdown",
      "source": [
        " #20Q. A restaurant chain collects customer satisfaction scores for two different branches. Write a program to\n",
        "analyze the scores, calculate the t-statistic, and determine if there's a statistically significant difference in\n",
        "customer satisfaction between the branches.\n",
        "\n",
        "Use the below data of scores:\n",
        "\n",
        "```python\n",
        "\n",
        "branch_a_scores = [4, 5, 3, 4, 5, 4, 5, 3, 4, 4, 5, 4, 4, 3, 4, 5, 5, 4, 3, 4, 5, 4, 3, 5, 4, 4, 5, 3, 4, 5, 4]\n",
        "\n",
        "branch_b_scores = [3, 4, 2, 3, 4, 3, 4, 2, 3, 3, 4, 3, 3, 2, 3, 4, 4, 3, 2, 3, 4, 3, 2, 4, 3, 3, 4, 2, 3, 4, 3]"
      ],
      "metadata": {
        "id": "vUrPcDGCuSlL"
      }
    },
    {
      "cell_type": "code",
      "source": [
        "branch_a_scores = [4, 5, 3, 4, 5, 4, 5, 3, 4, 4, 5, 4, 4, 3, 4, 5, 5, 4, 3, 4, 5, 4, 3, 5, 4, 4, 5, 3, 4, 5, 4]\n",
        "branch_b_scores = [3, 4, 2, 3, 4, 3, 4, 2, 3, 3, 4, 3, 3, 2, 3, 4, 4, 3, 2, 3, 4, 3, 2, 4, 3, 3, 4, 2, 3, 4, 3]\n",
        "\n",
        "# Perform an independent samples t-test\n",
        "t_statistic, p_value = stats.ttest_ind(branch_a_scores, branch_b_scores)\n",
        "\n",
        "# Print the results\n",
        "print(\"T-statistic:\", t_statistic)\n",
        "print(\"P-value:\", p_value)\n",
        "\n",
        "# Interpret the results (e.g., if p-value < 0.05, there is a significant difference)\n",
        "alpha = 0.05\n",
        "if p_value < alpha:\n",
        "    print(\"There is a statistically significant difference in customer satisfaction between the two branches.\")\n",
        "else:\n",
        "    print(\"There is no statistically significant difference in customer satisfaction between the two branches.\")"
      ],
      "metadata": {
        "colab": {
          "base_uri": "https://localhost:8080/"
        },
        "id": "NwIWPFgzuSfD",
        "outputId": "72e882c4-9482-4034-a99b-a8b6f9fb05d5"
      },
      "execution_count": 17,
      "outputs": [
        {
          "output_type": "stream",
          "name": "stdout",
          "text": [
            "T-statistic: 5.480077554195743\n",
            "P-value: 8.895290509945655e-07\n",
            "There is a statistically significant difference in customer satisfaction between the two branches.\n"
          ]
        }
      ]
    },
    {
      "cell_type": "markdown",
      "source": [
        "#21Q. A political analyst wants to determine if there is a significant association between age groups and voter\n",
        "preferences (Candidate A or Candidate B). They collect data from a sample of 500 voters and classify\n",
        "them into different age groups and candidate preferences. Perform a Chi-Square test to determine if\n",
        "there is a significant association between age groups and voter preferences.\n",
        "\n",
        "Use the below code to generate data:\n",
        "\n",
        "```python\n",
        "\n",
        "np.random.seed(0)\n",
        "\n",
        "age_groups = np.random.choice([ 18 30 , 31 50 , 51+', 51+'], size=30)\n",
        "\n",
        "voter_preferences = np.random.choice(['Candidate A', 'Candidate B'], size=30)"
      ],
      "metadata": {
        "id": "6RNEQsSrugGL"
      }
    },
    {
      "cell_type": "code",
      "source": [
        "import numpy as np\n",
        "import pandas as pd\n",
        "from scipy.stats import chi2_contingency\n",
        "\n",
        "# Set random seed for reproducibility\n",
        "np.random.seed(0)\n",
        "\n",
        "# Generate sample data\n",
        "age_groups = np.random.choice(['18-30', '31-50', '51+'], size=500)\n",
        "voter_preferences = np.random.choice(['Candidate A', 'Candidate B'], size=500)\n",
        "\n",
        "# Create a DataFrame\n",
        "data = pd.DataFrame({'Age Group': age_groups, 'Voter Preference': voter_preferences})\n",
        "\n",
        "# Create a contingency table\n",
        "contingency_table = pd.crosstab(data['Age Group'], data['Voter Preference'])\n",
        "\n",
        "# Perform the Chi-Square test of independence\n",
        "chi2_stat, p_value, dof, expected = chi2_contingency(contingency_table)\n",
        "\n",
        "# Display the results\n",
        "chi2_stat, p_value, dof, expected\n"
      ],
      "metadata": {
        "colab": {
          "base_uri": "https://localhost:8080/"
        },
        "id": "NsoQcpaHvKkE",
        "outputId": "8a5827cc-2df6-4087-b90b-cc039eb5f9a7"
      },
      "execution_count": 20,
      "outputs": [
        {
          "output_type": "execute_result",
          "data": {
            "text/plain": [
              "(0.8779923945254768,\n",
              " 0.6446832311860852,\n",
              " 2,\n",
              " array([[96.824, 85.176],\n",
              "        [89.908, 79.092],\n",
              "        [79.268, 69.732]]))"
            ]
          },
          "metadata": {},
          "execution_count": 20
        }
      ]
    },
    {
      "cell_type": "markdown",
      "source": [
        "#22Q. A company conducted a customer satisfaction survey to determine if there is a significant relationship\n",
        "between product satisfaction levels (Satisfied, Neutral, Dissatisfied) and the region where customers are\n",
        "located (East, West, North, South). The survey data is summarized in a contingency table. Conduct a ChiSquare test to determine if there is a significant relationship between product satisfaction levels and\n",
        "customer regions.\n",
        "\n",
        "Sample data:\n",
        "\n",
        "```python\n",
        "\n",
        "#Sample data: Product satisfaction levels (rows) vs. Customer regions (columns)\n",
        "\n",
        "data = np.array([[50, 30, 40, 20], [30, 40, 30, 50], [20, 30, 40, 30]])\n",
        "\n",
        "```"
      ],
      "metadata": {
        "id": "5jMR6C-XvPC8"
      }
    },
    {
      "cell_type": "code",
      "source": [
        "data = np.array([[50, 30, 40, 20], [30, 40, 30, 50], [20, 30, 40, 30]])\n",
        "\n",
        "# Perform the Chi-Square test\n",
        "chi2_statistic, p_value, degrees_of_freedom, expected_frequencies = chi2_contingency(data)\n",
        "\n",
        "# Print the results\n",
        "print(\"Chi-Square Statistic:\", chi2_statistic)\n",
        "print(\"P-value:\", p_value)\n",
        "print(\"Degrees of Freedom:\", degrees_of_freedom)\n",
        "print(\"Expected Frequencies:\\n\", expected_frequencies)\n",
        "\n",
        "# Interpret the results\n",
        "alpha = 0.05\n",
        "if p_value < alpha:\n",
        "    print(\n",
        "        \"There is a statistically significant relationship between product satisfaction and customer regions.\"\n",
        "    )\n",
        "else:\n",
        "    print(\n",
        "        \"There is no statistically significant relationship between product satisfaction and customer regions.\"\n",
        "    )"
      ],
      "metadata": {
        "colab": {
          "base_uri": "https://localhost:8080/"
        },
        "id": "LuL7u0DxvOsd",
        "outputId": "a11ac81f-0112-4431-fc39-7c6ef90398cb"
      },
      "execution_count": 22,
      "outputs": [
        {
          "output_type": "stream",
          "name": "stdout",
          "text": [
            "Chi-Square Statistic: 27.777056277056275\n",
            "P-value: 0.00010349448486004387\n",
            "Degrees of Freedom: 6\n",
            "Expected Frequencies:\n",
            " [[34.14634146 34.14634146 37.56097561 34.14634146]\n",
            " [36.58536585 36.58536585 40.24390244 36.58536585]\n",
            " [29.26829268 29.26829268 32.19512195 29.26829268]]\n",
            "There is a statistically significant relationship between product satisfaction and customer regions.\n"
          ]
        }
      ]
    },
    {
      "cell_type": "markdown",
      "source": [
        " #2Q3. A company implemented an employee training program to improve job performance (Effective, Neutral,\n",
        "Ineffective). After the training, they collected data from a sample of employees and classified them based\n",
        "on their job performance before and after the training. Perform a Chi-Square test to determine if there is a\n",
        "significant difference between job performance levels before and after the training.\n",
        "\n",
        "Sample data:\n",
        "\n",
        "```python\n",
        "\n",
        "# Sample data: Job performance levels before (rows) and after (columns) training\n",
        "\n",
        "data = np.array([[50, 30, 20], [30, 40, 30], [20, 30, 40]])\n",
        "\n",
        "```"
      ],
      "metadata": {
        "id": "B372XNh6ve1M"
      }
    },
    {
      "cell_type": "code",
      "source": [
        "data = np.array([[50, 30, 20], [30, 40, 30], [20, 30, 40]])\n",
        "\n",
        "# Perform the Chi-Square test\n",
        "chi2_statistic, p_value, degrees_of_freedom, expected_frequencies = chi2_contingency(data)\n",
        "\n",
        "# Print the results\n",
        "print(\"Chi-Square Statistic:\", chi2_statistic)\n",
        "print(\"P-value:\", p_value)\n",
        "print(\"Degrees of Freedom:\", degrees_of_freedom)\n",
        "print(\"Expected Frequencies:\\n\", expected_frequencies)\n",
        "\n",
        "# Interpret the results\n",
        "alpha = 0.05\n",
        "if p_value < alpha:\n",
        "    print(\n",
        "        \"There is a statistically significant difference between job performance levels before and after the training.\"\n",
        "    )\n",
        "else:\n",
        "    print(\n",
        "        \"There is no statistically significant difference between job performance levels before and after the training.\"\n",
        "    )"
      ],
      "metadata": {
        "colab": {
          "base_uri": "https://localhost:8080/"
        },
        "id": "x5imoX-7vesM",
        "outputId": "0a9b9981-7ad0-4ea3-c1c2-840f4732eb47"
      },
      "execution_count": 24,
      "outputs": [
        {
          "output_type": "stream",
          "name": "stdout",
          "text": [
            "Chi-Square Statistic: 22.161728395061726\n",
            "P-value: 0.00018609719479882557\n",
            "Degrees of Freedom: 4\n",
            "Expected Frequencies:\n",
            " [[34.48275862 34.48275862 31.03448276]\n",
            " [34.48275862 34.48275862 31.03448276]\n",
            " [31.03448276 31.03448276 27.93103448]]\n",
            "There is a statistically significant difference between job performance levels before and after the training.\n"
          ]
        }
      ]
    },
    {
      "cell_type": "markdown",
      "source": [
        " #24Q. A company produces three different versions of a product: Standard, Premium, and Deluxe. The\n",
        "company wants to determine if there is a significant difference in customer satisfaction scores among the\n",
        "three product versions. They conducted a survey and collected customer satisfaction scores for each\n",
        "version from a random sample of customers. Perform an ANOVA test to determine if there is a significant\n",
        "difference in customer satisfaction scores.\n",
        "\n",
        "Use the following data:\n",
        "\n",
        "  ```python\n",
        "\n",
        "  # Sample data: Customer satisfaction scores for each product version\n",
        "\n",
        "  standard_scores = [80, 85, 90, 78, 88, 82, 92, 78, 85, 87]\n",
        "\n",
        "  premium_scores = [90, 92, 88, 92, 95, 91, 96, 93, 89, 93]\n",
        "\n",
        "  deluxe_scores = [95, 98, 92, 97, 96, 94, 98, 97, 92, 99]\n",
        "\n",
        "  ``"
      ],
      "metadata": {
        "id": "MdnpqQmovw0B"
      }
    },
    {
      "cell_type": "code",
      "source": [
        "standard_scores = [80, 85, 90, 78, 88, 82, 92, 78, 85, 87]\n",
        "premium_scores = [90, 92, 88, 92, 95, 91, 96, 93, 89, 93]\n",
        "deluxe_scores = [95, 98, 92, 97, 96, 94, 98, 97, 92, 99]\n",
        "\n",
        "# Perform one-way ANOVA test\n",
        "f_statistic, p_value = stats.f_oneway(standard_scores, premium_scores, deluxe_scores)\n",
        "\n",
        "# Print the results\n",
        "print(\"F-statistic:\", f_statistic)\n",
        "print(\"P-value:\", p_value)\n",
        "\n",
        "# Interpret the results (e.g., if p-value < 0.05, there is a significant difference)\n",
        "alpha = 0.05\n",
        "if p_value < alpha:\n",
        "    print(\n",
        "        \"There is a statistically significant difference in customer satisfaction scores among the three product versions.\"\n",
        "    )\n",
        "else:\n",
        "    print(\n",
        "        \"There is no statistically significant difference in customer satisfaction scores among the three product versions.\"\n",
        "    )\n"
      ],
      "metadata": {
        "colab": {
          "base_uri": "https://localhost:8080/"
        },
        "id": "8XiFens6vwsh",
        "outputId": "cecfbf3d-1534-4e6e-c76f-1af1490bbaf9"
      },
      "execution_count": 26,
      "outputs": [
        {
          "output_type": "stream",
          "name": "stdout",
          "text": [
            "F-statistic: 27.03556231003039\n",
            "P-value: 3.5786328857349003e-07\n",
            "There is a statistically significant difference in customer satisfaction scores among the three product versions.\n"
          ]
        }
      ]
    }
  ]
}