{
  "nbformat": 4,
  "nbformat_minor": 0,
  "metadata": {
    "colab": {
      "provenance": [],
      "authorship_tag": "ABX9TyMuSQ8sC8q8SZDaZPNS5YUj",
      "include_colab_link": true
    },
    "kernelspec": {
      "name": "python3",
      "display_name": "Python 3"
    },
    "language_info": {
      "name": "python"
    }
  },
  "cells": [
    {
      "cell_type": "markdown",
      "metadata": {
        "id": "view-in-github",
        "colab_type": "text"
      },
      "source": [
        "<a href=\"https://colab.research.google.com/github/Kartik2002-KatiL/kartik-raj-/blob/kartik/kartik_pw_module_6_ass.ipynb\" target=\"_parent\"><img src=\"https://colab.research.google.com/assets/colab-badge.svg\" alt=\"Open In Colab\"/></a>"
      ]
    },
    {
      "cell_type": "code",
      "source": [
        "#1. Create a 3x3 NumPy array with random integers between 1 and 100. Then, interchange its rows and columns.\n",
        "\n",
        "import numpy as np\n",
        "\n",
        "# Create a 3x3 NumPy array with random integers between 1 and 100\n",
        "array = np.random.randint(1, 101, size=(3, 3))\n",
        "\n",
        "# Interchange rows and columns using array transpose\n",
        "interchanged_array = array.transpose()\n",
        "\n",
        "print(\"Original array:\")\n",
        "print(array)\n",
        "print(\"\\nArray with interchanged rows and columns:\")\n",
        "print(interchanged_array)\n"
      ],
      "metadata": {
        "colab": {
          "base_uri": "https://localhost:8080/"
        },
        "id": "G7rfuIGyFj8I",
        "outputId": "a4004ad3-16ee-408c-db62-1e462e868436"
      },
      "execution_count": 1,
      "outputs": [
        {
          "output_type": "stream",
          "name": "stdout",
          "text": [
            "Original array:\n",
            "[[ 7 47  9]\n",
            " [54 25 96]\n",
            " [71 93 90]]\n",
            "\n",
            "Array with interchanged rows and columns:\n",
            "[[ 7 54 71]\n",
            " [47 25 93]\n",
            " [ 9 96 90]]\n"
          ]
        }
      ]
    },
    {
      "cell_type": "code",
      "source": [
        "#2. Generate a 1D NumPy array with 10 elements. Reshape it into a 2x5 array, then into a 5x2 array.\n",
        "\n",
        "import numpy as np\n",
        "\n",
        "# Generate a 1D NumPy array with 10 elements\n",
        "array_1d = np.arange(10)\n",
        "\n",
        "# Reshape it into a 2x5 array\n",
        "array_2x5 = array_1d.reshape(2, 5)\n",
        "print(\"\\nReshaped into a 2x5 array:\")\n",
        "print(array_2x5)\n",
        "\n",
        "# Reshape it into a 5x2 array\n",
        "array_5x2 = array_1d.reshape(5, 2)\n",
        "print(\"\\nReshaped into a 5x2 array:\")\n",
        "print(array_5x2)\n"
      ],
      "metadata": {
        "colab": {
          "base_uri": "https://localhost:8080/"
        },
        "id": "2D_gTKl4F52Y",
        "outputId": "318c5329-f0b3-47c8-d751-0b177c1ffd96"
      },
      "execution_count": 2,
      "outputs": [
        {
          "output_type": "stream",
          "name": "stdout",
          "text": [
            "\n",
            "Reshaped into a 2x5 array:\n",
            "[[0 1 2 3 4]\n",
            " [5 6 7 8 9]]\n",
            "\n",
            "Reshaped into a 5x2 array:\n",
            "[[0 1]\n",
            " [2 3]\n",
            " [4 5]\n",
            " [6 7]\n",
            " [8 9]]\n"
          ]
        }
      ]
    },
    {
      "cell_type": "code",
      "source": [
        "#3. Create a 4x4 NumPy array with random float values. Add a border of zeros around it, resulting in a 6x6 array.\n",
        "\n",
        "import numpy as np\n",
        "\n",
        "# Create a 4x4 NumPy array with random float values\n",
        "array = np.random.rand(4, 4)\n",
        "\n",
        "# Create a 6x6 array filled with zeros\n",
        "bordered_array = np.zeros((6, 6))\n",
        "\n",
        "# Copy the original array into the center of the bordered array\n",
        "bordered_array[1:5, 1:5] = array\n",
        "\n",
        "print(\"Original array:\")\n",
        "print(array)\n",
        "print(\"\\nArray with a border of zeros:\")\n",
        "print(bordered_array)\n"
      ],
      "metadata": {
        "colab": {
          "base_uri": "https://localhost:8080/"
        },
        "id": "Vmf2Bl0BGeo9",
        "outputId": "307ba420-584c-4060-f2fc-c9dc685cb80e"
      },
      "execution_count": 3,
      "outputs": [
        {
          "output_type": "stream",
          "name": "stdout",
          "text": [
            "Original array:\n",
            "[[0.92666392 0.40882521 0.40365183 0.49715408]\n",
            " [0.48728168 0.92487851 0.45880013 0.74391788]\n",
            " [0.05333073 0.71039026 0.79624906 0.83529064]\n",
            " [0.11568412 0.0219548  0.63757822 0.1749117 ]]\n",
            "\n",
            "Array with a border of zeros:\n",
            "[[0.         0.         0.         0.         0.         0.        ]\n",
            " [0.         0.92666392 0.40882521 0.40365183 0.49715408 0.        ]\n",
            " [0.         0.48728168 0.92487851 0.45880013 0.74391788 0.        ]\n",
            " [0.         0.05333073 0.71039026 0.79624906 0.83529064 0.        ]\n",
            " [0.         0.11568412 0.0219548  0.63757822 0.1749117  0.        ]\n",
            " [0.         0.         0.         0.         0.         0.        ]]\n"
          ]
        }
      ]
    },
    {
      "cell_type": "code",
      "source": [
        "# 4. Using NumPy, create an array of integers from 10 to 60 with a step of 5.\n",
        "\n",
        "import numpy as np\n",
        "\n",
        "# Create an array of integers from 10 to 60 with a step of 5\n",
        "array = np.arange(10, 61, 5)\n",
        "\n",
        "print(array)\n"
      ],
      "metadata": {
        "colab": {
          "base_uri": "https://localhost:8080/"
        },
        "id": "JWOtALNiGs9G",
        "outputId": "7d51909c-e527-4e23-e765-0b650d20049c"
      },
      "execution_count": 4,
      "outputs": [
        {
          "output_type": "stream",
          "name": "stdout",
          "text": [
            "[10 15 20 25 30 35 40 45 50 55 60]\n"
          ]
        }
      ]
    },
    {
      "cell_type": "code",
      "source": [
        "# 5. Create a NumPy array of strings ['python', 'numpy', 'pandas']. Apply different case transformations(uppercase, lowercase, title case, etc.) to each element.\n",
        "\n",
        "import numpy as np\n",
        "\n",
        "# Create a NumPy array of strings\n",
        "array = np.array(['python', 'numpy', 'pandas'])\n",
        "\n",
        "# Uppercase transformation\n",
        "uppercase_array = np.char.upper(array)\n",
        "print(\"Uppercase array:\", uppercase_array)\n",
        "\n",
        "# Lowercase transformation\n",
        "lowercase_array = np.char.lower(array)\n",
        "print(\"Lowercase array:\", lowercase_array)\n",
        "\n",
        "# Title case transformation\n",
        "titlecase_array = np.char.title(array)\n",
        "print(\"Titlecase array:\", titlecase_array)\n",
        "\n",
        "# Swapcase transformation\n",
        "swapcase_array = np.char.swapcase(array)\n",
        "print(\"Swapcase array:\", swapcase_array)\n"
      ],
      "metadata": {
        "colab": {
          "base_uri": "https://localhost:8080/"
        },
        "id": "I3qlyVtNGzMu",
        "outputId": "696d45a4-1903-48c5-95af-70540567ffbe"
      },
      "execution_count": 5,
      "outputs": [
        {
          "output_type": "stream",
          "name": "stdout",
          "text": [
            "Uppercase array: ['PYTHON' 'NUMPY' 'PANDAS']\n",
            "Lowercase array: ['python' 'numpy' 'pandas']\n",
            "Titlecase array: ['Python' 'Numpy' 'Pandas']\n",
            "Swapcase array: ['PYTHON' 'NUMPY' 'PANDAS']\n"
          ]
        }
      ]
    },
    {
      "cell_type": "code",
      "source": [
        "# 6. Generate a NumPy array of words. Insert a space between each character of every word in the array.\n",
        "\n",
        "import numpy as np\n",
        "\n",
        "# Generate a NumPy array of words\n",
        "words_array = np.array(['hello', 'world', 'python'])\n",
        "\n",
        "# Insert a space between each character of every word\n",
        "spaced_words_array = np.char.join(' ', words_array)\n",
        "\n",
        "print(\"Original array:\", words_array)\n",
        "print(\"Array with spaces between characters:\", spaced_words_array)\n"
      ],
      "metadata": {
        "colab": {
          "base_uri": "https://localhost:8080/"
        },
        "id": "8EDgx-vMG7ji",
        "outputId": "af008fe3-e407-47ee-fd3f-bb2aec186298"
      },
      "execution_count": 6,
      "outputs": [
        {
          "output_type": "stream",
          "name": "stdout",
          "text": [
            "Original array: ['hello' 'world' 'python']\n",
            "Array with spaces between characters: ['h e l l o' 'w o r l d' 'p y t h o n']\n"
          ]
        }
      ]
    },
    {
      "cell_type": "code",
      "source": [
        "# 7. Create two 2D NumPy arrays and perform element-wise addition, subtraction, multiplication, and division.\n",
        "\n",
        "# Create two 2D NumPy arrays\n",
        "array1 = np.array([[1, 2], [3, 4]])\n",
        "array2 = np.array([[5, 6], [7, 8]])\n",
        "\n",
        "# Element-wise addition\n",
        "addition_result = np.add(array1, array2)\n",
        "print(\"Element-wise addition:\")\n",
        "print(addition_result)\n",
        "\n",
        "# Element-wise subtraction\n",
        "subtraction_result = np.subtract(array1, array2)\n",
        "print(\"\\nElement-wise subtraction:\")\n",
        "print(subtraction_result)\n",
        "\n",
        "# Element-wise multiplication\n",
        "multiplication_result = np.multiply(array1, array2)\n",
        "print(\"\\nElement-wise multiplication:\")\n",
        "print(multiplication_result)\n",
        "\n",
        "# Element-wise division\n",
        "division_result = np.divide(array1, array2)\n",
        "print(\"\\nElement-wise division:\")\n",
        "print(division_result)\n"
      ],
      "metadata": {
        "colab": {
          "base_uri": "https://localhost:8080/"
        },
        "id": "9zYiyAOwHBtC",
        "outputId": "a544aab3-055c-40e6-c1b6-27f7e1a5ec02"
      },
      "execution_count": 7,
      "outputs": [
        {
          "output_type": "stream",
          "name": "stdout",
          "text": [
            "Element-wise addition:\n",
            "[[ 6  8]\n",
            " [10 12]]\n",
            "\n",
            "Element-wise subtraction:\n",
            "[[-4 -4]\n",
            " [-4 -4]]\n",
            "\n",
            "Element-wise multiplication:\n",
            "[[ 5 12]\n",
            " [21 32]]\n",
            "\n",
            "Element-wise division:\n",
            "[[0.2        0.33333333]\n",
            " [0.42857143 0.5       ]]\n"
          ]
        }
      ]
    },
    {
      "cell_type": "code",
      "source": [
        "# prompt: 8. Use NumPy to create a 5x5 identity matrix, then extract its diagonal elements.\n",
        "\n",
        "import numpy as np\n",
        "\n",
        "# Create a 5x5 identity matrix\n",
        "identity_matrix = np.identity(5)\n",
        "\n",
        "print(\"Identity matrix:\")\n",
        "print(identity_matrix)\n",
        "\n",
        "# Extract the diagonal elements\n",
        "diagonal_elements = np.diag(identity_matrix)\n",
        "\n",
        "print(\"\\nDiagonal elements:\")\n",
        "print(diagonal_elements)\n"
      ],
      "metadata": {
        "colab": {
          "base_uri": "https://localhost:8080/"
        },
        "id": "6LifXV8GHJt4",
        "outputId": "0b4032f0-a727-43f1-c62c-d972fd730b39"
      },
      "execution_count": 8,
      "outputs": [
        {
          "output_type": "stream",
          "name": "stdout",
          "text": [
            "Identity matrix:\n",
            "[[1. 0. 0. 0. 0.]\n",
            " [0. 1. 0. 0. 0.]\n",
            " [0. 0. 1. 0. 0.]\n",
            " [0. 0. 0. 1. 0.]\n",
            " [0. 0. 0. 0. 1.]]\n",
            "\n",
            "Diagonal elements:\n",
            "[1. 1. 1. 1. 1.]\n"
          ]
        }
      ]
    },
    {
      "cell_type": "code",
      "source": [
        "# prompt: 9. Generate a NumPy array of 100 random integers between 0 and 1000. Find and display all prime numbers in this array.\n",
        "\n",
        "import numpy as np\n",
        "\n",
        "def is_prime(n):\n",
        "  \"\"\"Checks if a number is prime.\"\"\"\n",
        "  if n <= 1:\n",
        "    return False\n",
        "  for i in range(2, int(n**0.5) + 1):\n",
        "    if n % i == 0:\n",
        "      return False\n",
        "  return True\n",
        "\n",
        "# Generate a NumPy array of 100 random integers between 0 and 1000\n",
        "array = np.random.randint(0, 1001, size=100)\n",
        "\n",
        "# Find and display all prime numbers in the array\n",
        "prime_numbers = [num for num in array if is_prime(num)]\n",
        "\n",
        "print(\"Original array:\", array)\n",
        "print(\"Prime numbers in the array:\", prime_numbers)\n"
      ],
      "metadata": {
        "colab": {
          "base_uri": "https://localhost:8080/"
        },
        "id": "ZGp8l9URHQ8A",
        "outputId": "d3b765d5-52f1-41a1-d705-2ba3c412bfe8"
      },
      "execution_count": 9,
      "outputs": [
        {
          "output_type": "stream",
          "name": "stdout",
          "text": [
            "Original array: [ 49 934 531 206 175 142 752 343 436 451 221  84 980 856 578 127  64 966\n",
            " 232 604 646 603 300 731 234 733 880 412  38 342 345 560 416 697 446  99\n",
            " 915 644 124 568 183 247 839 792  71 658  36 259 567 401 957 926 440 290\n",
            " 504 260 349 140 408 238 139  83 413 381 153 225 661 777 478 693 773 365\n",
            " 117 660 783 920 362 936 165 603 862 717 103 783 849 962 100 643 704 931\n",
            " 870 967 671  91 755 797 908 686  88 708]\n",
            "Prime numbers in the array: [127, 733, 839, 71, 401, 349, 139, 83, 661, 773, 103, 643, 967, 797]\n"
          ]
        }
      ]
    },
    {
      "cell_type": "code",
      "source": [
        "# 10. Create a NumPy array representing daily temperatures for a month. Calculate and display the weekly averages.\n",
        "\n",
        "import numpy as np\n",
        "\n",
        "# Create a NumPy array representing daily temperatures for a month (30 days)\n",
        "temperatures = np.random.randint(15, 35, size=30)\n",
        "\n",
        "# Calculate weekly averages\n",
        "weekly_averages = []\n",
        "for i in range(0, len(temperatures), 7):\n",
        "  week_temperatures = temperatures[i:i+7]\n",
        "  if len(week_temperatures) > 0:\n",
        "    weekly_average = np.mean(week_temperatures)\n",
        "    weekly_averages.append(weekly_average)\n",
        "\n",
        "\n",
        "print(\"Daily temperatures:\", temperatures)\n",
        "print(\"Weekly averages:\", weekly_averages)\n"
      ],
      "metadata": {
        "colab": {
          "base_uri": "https://localhost:8080/"
        },
        "id": "q2VYTVQkHWJR",
        "outputId": "539980ad-8534-4b26-a9bc-1d28a521f40b"
      },
      "execution_count": 10,
      "outputs": [
        {
          "output_type": "stream",
          "name": "stdout",
          "text": [
            "Daily temperatures: [21 27 24 28 26 16 25 33 18 33 20 26 15 25 23 30 27 30 18 34 33 18 34 30\n",
            " 22 25 25 17 19 22]\n",
            "Weekly averages: [23.857142857142858, 24.285714285714285, 27.857142857142858, 24.428571428571427, 20.5]\n"
          ]
        }
      ]
    }
  ]
}